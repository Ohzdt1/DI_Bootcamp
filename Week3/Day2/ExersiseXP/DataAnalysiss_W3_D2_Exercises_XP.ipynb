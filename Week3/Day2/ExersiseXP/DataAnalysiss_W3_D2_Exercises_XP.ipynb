{
  "nbformat": 4,
  "nbformat_minor": 0,
  "metadata": {
    "colab": {
      "provenance": [],
      "authorship_tag": "ABX9TyP+hN/NIpKXU0eA2GUVTQh3",
      "include_colab_link": true
    },
    "kernelspec": {
      "name": "python3",
      "display_name": "Python 3"
    },
    "language_info": {
      "name": "python"
    }
  },
  "cells": [
    {
      "cell_type": "markdown",
      "metadata": {
        "id": "view-in-github",
        "colab_type": "text"
      },
      "source": [
        "<a href=\"https://colab.research.google.com/github/Ohzdt1/DI_Bootcamp/blob/main/DataAnalysiss_W3_D2_Exercises_XP.ipynb\" target=\"_parent\"><img src=\"https://colab.research.google.com/assets/colab-badge.svg\" alt=\"Open In Colab\"/></a>"
      ]
    },
    {
      "cell_type": "markdown",
      "source": [
        "# **🌟 Exercise 1: Identifying Data Types**"
      ],
      "metadata": {
        "id": "FfjmQPxxMTyW"
      }
    },
    {
      "cell_type": "markdown",
      "source": [
        "\n",
        "\n",
        "*   A company’s financial reports stored in an Excel file.\n",
        " * structured\n",
        "*   Photographs uploaded to a social media platform.\n",
        " * unstructured\n",
        "*   A collection of news articles on a website.\n",
        " * structured\n",
        "*   Inventory data in a relational database.\n",
        " * structured\n",
        "*   Recorded interviews from a market research study.\n",
        " * structured & unstructured deppends on how the data was imputed\n",
        "\n",
        "\n",
        "\n"
      ],
      "metadata": {
        "id": "lBayqgDJMXhr"
      }
    },
    {
      "cell_type": "markdown",
      "source": [
        "# **🌟 Exercise 2: Transformation Exercise**"
      ],
      "metadata": {
        "id": "GggVutt4PGWu"
      }
    },
    {
      "cell_type": "markdown",
      "source": [
        "\n",
        "\n",
        "*  A series of blog posts about travel experiences.\n",
        " * user accounts reading rating the different places they have traveled in a numerical way from 1-10 or tars like review\n",
        "*  Audio recordings of customer service calls.\n",
        " * after reviewing calls a QA specialist could utilize the cost to create a table for improvement of the customer service experience the table would be structured data of the customer service calls\n",
        "*  Handwritten notes from a brainstorming session.\n",
        " * one way of accomplishing this would be to split the brainstorming session into different columns where it would be first column the ideas the second column would be category of that ideas. Then action items for those ideas, priorities of each action item, and then comments and notes.\n",
        "*  A video tutorial on cooking.\n",
        " * a table breaking down the ingredients with their respective quantities as well as the cook times required for different outcomes\n",
        "\n"
      ],
      "metadata": {
        "id": "qKi8wdAksCBG"
      }
    },
    {
      "cell_type": "markdown",
      "source": [
        "# **🌟 Exercise 3 : Import a file from Kaggle**"
      ],
      "metadata": {
        "id": "-BmTVchhPJdo"
      }
    },
    {
      "cell_type": "code",
      "source": [
        "import pandas as pd\n",
        "\n",
        "train_data = pd.read_csv('train.csv', header=None)\n",
        "\n",
        "print(train_data.head())\n"
      ],
      "metadata": {
        "colab": {
          "base_uri": "https://localhost:8080/"
        },
        "id": "DZzqMzg5PXJQ",
        "outputId": "8451e933-0e6b-4dfe-f034-0d666f1cc2c4"
      },
      "execution_count": 1,
      "outputs": [
        {
          "output_type": "stream",
          "name": "stdout",
          "text": [
            "            0         1       2   \\\n",
            "0  PassengerId  Survived  Pclass   \n",
            "1            1         0       3   \n",
            "2            2         1       1   \n",
            "3            3         1       3   \n",
            "4            4         1       1   \n",
            "\n",
            "                                                  3       4    5      6   \\\n",
            "0                                               Name     Sex  Age  SibSp   \n",
            "1                            Braund, Mr. Owen Harris    male   22      1   \n",
            "2  Cumings, Mrs. John Bradley (Florence Briggs Th...  female   38      1   \n",
            "3                             Heikkinen, Miss. Laina  female   26      0   \n",
            "4       Futrelle, Mrs. Jacques Heath (Lily May Peel)  female   35      1   \n",
            "\n",
            "      7                 8        9      10        11  \n",
            "0  Parch            Ticket     Fare  Cabin  Embarked  \n",
            "1      0         A/5 21171     7.25    NaN         S  \n",
            "2      0          PC 17599  71.2833    C85         C  \n",
            "3      0  STON/O2. 3101282    7.925    NaN         S  \n",
            "4      0            113803     53.1   C123         S  \n"
          ]
        }
      ]
    },
    {
      "cell_type": "markdown",
      "source": [
        "# **🌟 Exercise 4: Importing a CSV File**"
      ],
      "metadata": {
        "id": "tGASflWlPMCU"
      }
    },
    {
      "cell_type": "code",
      "source": [
        "from google.colab import files\n",
        "\n",
        "uploaded = files.upload()"
      ],
      "metadata": {
        "colab": {
          "base_uri": "https://localhost:8080/",
          "height": 73
        },
        "id": "jaw-kSKqPX2b",
        "outputId": "29cc4420-deb3-4ddc-a020-ca4de962d1be"
      },
      "execution_count": 2,
      "outputs": [
        {
          "output_type": "display_data",
          "data": {
            "text/plain": [
              "<IPython.core.display.HTML object>"
            ],
            "text/html": [
              "\n",
              "     <input type=\"file\" id=\"files-1857eb78-e102-4704-9d56-93d1f61a3795\" name=\"files[]\" multiple disabled\n",
              "        style=\"border:none\" />\n",
              "     <output id=\"result-1857eb78-e102-4704-9d56-93d1f61a3795\">\n",
              "      Upload widget is only available when the cell has been executed in the\n",
              "      current browser session. Please rerun this cell to enable.\n",
              "      </output>\n",
              "      <script>// Copyright 2017 Google LLC\n",
              "//\n",
              "// Licensed under the Apache License, Version 2.0 (the \"License\");\n",
              "// you may not use this file except in compliance with the License.\n",
              "// You may obtain a copy of the License at\n",
              "//\n",
              "//      http://www.apache.org/licenses/LICENSE-2.0\n",
              "//\n",
              "// Unless required by applicable law or agreed to in writing, software\n",
              "// distributed under the License is distributed on an \"AS IS\" BASIS,\n",
              "// WITHOUT WARRANTIES OR CONDITIONS OF ANY KIND, either express or implied.\n",
              "// See the License for the specific language governing permissions and\n",
              "// limitations under the License.\n",
              "\n",
              "/**\n",
              " * @fileoverview Helpers for google.colab Python module.\n",
              " */\n",
              "(function(scope) {\n",
              "function span(text, styleAttributes = {}) {\n",
              "  const element = document.createElement('span');\n",
              "  element.textContent = text;\n",
              "  for (const key of Object.keys(styleAttributes)) {\n",
              "    element.style[key] = styleAttributes[key];\n",
              "  }\n",
              "  return element;\n",
              "}\n",
              "\n",
              "// Max number of bytes which will be uploaded at a time.\n",
              "const MAX_PAYLOAD_SIZE = 100 * 1024;\n",
              "\n",
              "function _uploadFiles(inputId, outputId) {\n",
              "  const steps = uploadFilesStep(inputId, outputId);\n",
              "  const outputElement = document.getElementById(outputId);\n",
              "  // Cache steps on the outputElement to make it available for the next call\n",
              "  // to uploadFilesContinue from Python.\n",
              "  outputElement.steps = steps;\n",
              "\n",
              "  return _uploadFilesContinue(outputId);\n",
              "}\n",
              "\n",
              "// This is roughly an async generator (not supported in the browser yet),\n",
              "// where there are multiple asynchronous steps and the Python side is going\n",
              "// to poll for completion of each step.\n",
              "// This uses a Promise to block the python side on completion of each step,\n",
              "// then passes the result of the previous step as the input to the next step.\n",
              "function _uploadFilesContinue(outputId) {\n",
              "  const outputElement = document.getElementById(outputId);\n",
              "  const steps = outputElement.steps;\n",
              "\n",
              "  const next = steps.next(outputElement.lastPromiseValue);\n",
              "  return Promise.resolve(next.value.promise).then((value) => {\n",
              "    // Cache the last promise value to make it available to the next\n",
              "    // step of the generator.\n",
              "    outputElement.lastPromiseValue = value;\n",
              "    return next.value.response;\n",
              "  });\n",
              "}\n",
              "\n",
              "/**\n",
              " * Generator function which is called between each async step of the upload\n",
              " * process.\n",
              " * @param {string} inputId Element ID of the input file picker element.\n",
              " * @param {string} outputId Element ID of the output display.\n",
              " * @return {!Iterable<!Object>} Iterable of next steps.\n",
              " */\n",
              "function* uploadFilesStep(inputId, outputId) {\n",
              "  const inputElement = document.getElementById(inputId);\n",
              "  inputElement.disabled = false;\n",
              "\n",
              "  const outputElement = document.getElementById(outputId);\n",
              "  outputElement.innerHTML = '';\n",
              "\n",
              "  const pickedPromise = new Promise((resolve) => {\n",
              "    inputElement.addEventListener('change', (e) => {\n",
              "      resolve(e.target.files);\n",
              "    });\n",
              "  });\n",
              "\n",
              "  const cancel = document.createElement('button');\n",
              "  inputElement.parentElement.appendChild(cancel);\n",
              "  cancel.textContent = 'Cancel upload';\n",
              "  const cancelPromise = new Promise((resolve) => {\n",
              "    cancel.onclick = () => {\n",
              "      resolve(null);\n",
              "    };\n",
              "  });\n",
              "\n",
              "  // Wait for the user to pick the files.\n",
              "  const files = yield {\n",
              "    promise: Promise.race([pickedPromise, cancelPromise]),\n",
              "    response: {\n",
              "      action: 'starting',\n",
              "    }\n",
              "  };\n",
              "\n",
              "  cancel.remove();\n",
              "\n",
              "  // Disable the input element since further picks are not allowed.\n",
              "  inputElement.disabled = true;\n",
              "\n",
              "  if (!files) {\n",
              "    return {\n",
              "      response: {\n",
              "        action: 'complete',\n",
              "      }\n",
              "    };\n",
              "  }\n",
              "\n",
              "  for (const file of files) {\n",
              "    const li = document.createElement('li');\n",
              "    li.append(span(file.name, {fontWeight: 'bold'}));\n",
              "    li.append(span(\n",
              "        `(${file.type || 'n/a'}) - ${file.size} bytes, ` +\n",
              "        `last modified: ${\n",
              "            file.lastModifiedDate ? file.lastModifiedDate.toLocaleDateString() :\n",
              "                                    'n/a'} - `));\n",
              "    const percent = span('0% done');\n",
              "    li.appendChild(percent);\n",
              "\n",
              "    outputElement.appendChild(li);\n",
              "\n",
              "    const fileDataPromise = new Promise((resolve) => {\n",
              "      const reader = new FileReader();\n",
              "      reader.onload = (e) => {\n",
              "        resolve(e.target.result);\n",
              "      };\n",
              "      reader.readAsArrayBuffer(file);\n",
              "    });\n",
              "    // Wait for the data to be ready.\n",
              "    let fileData = yield {\n",
              "      promise: fileDataPromise,\n",
              "      response: {\n",
              "        action: 'continue',\n",
              "      }\n",
              "    };\n",
              "\n",
              "    // Use a chunked sending to avoid message size limits. See b/62115660.\n",
              "    let position = 0;\n",
              "    do {\n",
              "      const length = Math.min(fileData.byteLength - position, MAX_PAYLOAD_SIZE);\n",
              "      const chunk = new Uint8Array(fileData, position, length);\n",
              "      position += length;\n",
              "\n",
              "      const base64 = btoa(String.fromCharCode.apply(null, chunk));\n",
              "      yield {\n",
              "        response: {\n",
              "          action: 'append',\n",
              "          file: file.name,\n",
              "          data: base64,\n",
              "        },\n",
              "      };\n",
              "\n",
              "      let percentDone = fileData.byteLength === 0 ?\n",
              "          100 :\n",
              "          Math.round((position / fileData.byteLength) * 100);\n",
              "      percent.textContent = `${percentDone}% done`;\n",
              "\n",
              "    } while (position < fileData.byteLength);\n",
              "  }\n",
              "\n",
              "  // All done.\n",
              "  yield {\n",
              "    response: {\n",
              "      action: 'complete',\n",
              "    }\n",
              "  };\n",
              "}\n",
              "\n",
              "scope.google = scope.google || {};\n",
              "scope.google.colab = scope.google.colab || {};\n",
              "scope.google.colab._files = {\n",
              "  _uploadFiles,\n",
              "  _uploadFilesContinue,\n",
              "};\n",
              "})(self);\n",
              "</script> "
            ]
          },
          "metadata": {}
        },
        {
          "output_type": "stream",
          "name": "stdout",
          "text": [
            "Saving Iris_dataset.csv to Iris_dataset.csv\n"
          ]
        }
      ]
    },
    {
      "cell_type": "code",
      "source": [
        "import pandas as pd\n",
        "\n",
        "iris_data = pd.read_csv('Iris_dataset.csv', header=None)\n",
        "\n",
        "print(iris_data.head())"
      ],
      "metadata": {
        "colab": {
          "base_uri": "https://localhost:8080/"
        },
        "id": "0ppQC_vc6hJs",
        "outputId": "5044124b-f6bf-4ca7-a34e-72d3a9b76aeb"
      },
      "execution_count": 3,
      "outputs": [
        {
          "output_type": "stream",
          "name": "stdout",
          "text": [
            "     0    1    2    3            4\n",
            "0  5.1  3.5  1.4  0.2  Iris-setosa\n",
            "1  4.9  3.0  1.4  0.2  Iris-setosa\n",
            "2  4.7  3.2  1.3  0.2  Iris-setosa\n",
            "3  4.6  3.1  1.5  0.2  Iris-setosa\n",
            "4  5.0  3.6  1.4  0.2  Iris-setosa\n"
          ]
        }
      ]
    },
    {
      "cell_type": "markdown",
      "source": [
        "# **🌟 Exercise 5 : Export a dataframe to excel format and JSON format.**"
      ],
      "metadata": {
        "id": "AXdaQpHZPPqm"
      }
    },
    {
      "cell_type": "code",
      "source": [
        "!pip install faker\n",
        "\n",
        "import pandas as pd\n",
        "from faker import Faker\n",
        "import numpy as np\n",
        "\n",
        "fake = Faker()\n",
        "\n",
        "data = {\n",
        "    \"Name\": [fake.name() for _ in range(10)],\n",
        "    \"Power\": [fake.random_int(min=10, max=1000) for _ in range(10)],\n",
        "    \"Level\": [np.random.randint(1, 11) for _ in range(10)]\n",
        "}\n",
        "\n",
        "df = pd.DataFrame(data)\n",
        "\n",
        "print(df)"
      ],
      "metadata": {
        "colab": {
          "base_uri": "https://localhost:8080/"
        },
        "id": "MkP79fSBPYL7",
        "outputId": "7b16ee89-4634-46ba-bcba-d8ed5f754a9d"
      },
      "execution_count": 11,
      "outputs": [
        {
          "output_type": "stream",
          "name": "stdout",
          "text": [
            "Requirement already satisfied: faker in /usr/local/lib/python3.11/dist-packages (36.1.1)\n",
            "Requirement already satisfied: tzdata in /usr/local/lib/python3.11/dist-packages (from faker) (2025.1)\n",
            "                  Name  Power  Level\n",
            "0       Alicia Baldwin    222      4\n",
            "1        Nathan Brewer     22      2\n",
            "2          Paul Cooper    909      2\n",
            "3       Jennifer Blair    638      3\n",
            "4          Joseph Dunn    588      5\n",
            "5           Amy Murphy    741      2\n",
            "6  Christopher Winters    355      9\n",
            "7          Jesse Davis    803      2\n",
            "8        Kristin Lewis    705      6\n",
            "9            Chad King    978      4\n"
          ]
        }
      ]
    },
    {
      "cell_type": "code",
      "source": [
        "df = pd.DataFrame(data)\n",
        "\n",
        "df.to_excel('Level_Power.xlsx', index=False)"
      ],
      "metadata": {
        "id": "884Rf5Ac9ZNW"
      },
      "execution_count": 12,
      "outputs": []
    },
    {
      "cell_type": "code",
      "source": [
        "df = pd.DataFrame(data)\n",
        "\n",
        "df.sort_values(by=\"Power\", ascending=False).to_json(\"Level_Power_sorted.json\", orient=\"records\", indent=4)\n"
      ],
      "metadata": {
        "id": "Xdt1NwKJ9nRv"
      },
      "execution_count": 15,
      "outputs": []
    },
    {
      "cell_type": "markdown",
      "source": [
        "# **🌟 Exercise 6: Reading JSON Data**"
      ],
      "metadata": {
        "id": "j-XFXzQGPR-3"
      }
    },
    {
      "cell_type": "code",
      "execution_count": 18,
      "metadata": {
        "colab": {
          "base_uri": "https://localhost:8080/"
        },
        "id": "KT5v3YN5MFxA",
        "outputId": "79e778b5-f8fd-4de5-8319-3c9c50b30d0f"
      },
      "outputs": [
        {
          "output_type": "stream",
          "name": "stdout",
          "text": [
            "   userId  id                                              title  \\\n",
            "0       1   1  sunt aut facere repellat provident occaecati e...   \n",
            "1       1   2                                       qui est esse   \n",
            "2       1   3  ea molestias quasi exercitationem repellat qui...   \n",
            "3       1   4                               eum et est occaecati   \n",
            "4       1   5                                 nesciunt quas odio   \n",
            "\n",
            "                                                body  \n",
            "0  quia et suscipit\\nsuscipit recusandae consequu...  \n",
            "1  est rerum tempore vitae\\nsequi sint nihil repr...  \n",
            "2  et iusto sed quo iure\\nvoluptatem occaecati om...  \n",
            "3  ullam et saepe reiciendis voluptatem adipisci\\...  \n",
            "4  repudiandae veniam quaerat sunt sed\\nalias aut...  \n"
          ]
        }
      ],
      "source": [
        "import pandas as pd\n",
        "\n",
        "json_data = pd.read_json('/content/postsD2.json')\n",
        "\n",
        "print(json_data.head())"
      ]
    }
  ]
}