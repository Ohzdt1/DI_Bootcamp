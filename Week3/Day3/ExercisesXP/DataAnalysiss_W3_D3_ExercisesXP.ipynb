{
  "nbformat": 4,
  "nbformat_minor": 0,
  "metadata": {
    "colab": {
      "provenance": []
    },
    "kernelspec": {
      "name": "python3",
      "display_name": "Python 3"
    },
    "language_info": {
      "name": "python"
    }
  },
  "cells": [
    {
      "cell_type": "markdown",
      "source": [
        "# **🌟 Exercise 1: Duplicate Detection and Removal**"
      ],
      "metadata": {
        "id": "icNR6ZFpLD9j"
      }
    },
    {
      "cell_type": "code",
      "execution_count": 1,
      "metadata": {
        "colab": {
          "base_uri": "https://localhost:8080/",
          "height": 475
        },
        "collapsed": true,
        "id": "Eybehx6FKng2",
        "outputId": "5e20e9e7-771c-4d63-8404-2b1cd2baea5c"
      },
      "outputs": [
        {
          "output_type": "stream",
          "name": "stdout",
          "text": [
            "Requirement already satisfied: kaggle in /usr/local/lib/python3.11/dist-packages (1.6.17)\n",
            "Requirement already satisfied: six>=1.10 in /usr/local/lib/python3.11/dist-packages (from kaggle) (1.17.0)\n",
            "Requirement already satisfied: certifi>=2023.7.22 in /usr/local/lib/python3.11/dist-packages (from kaggle) (2025.1.31)\n",
            "Requirement already satisfied: python-dateutil in /usr/local/lib/python3.11/dist-packages (from kaggle) (2.8.2)\n",
            "Requirement already satisfied: requests in /usr/local/lib/python3.11/dist-packages (from kaggle) (2.32.3)\n",
            "Requirement already satisfied: tqdm in /usr/local/lib/python3.11/dist-packages (from kaggle) (4.67.1)\n",
            "Requirement already satisfied: python-slugify in /usr/local/lib/python3.11/dist-packages (from kaggle) (8.0.4)\n",
            "Requirement already satisfied: urllib3 in /usr/local/lib/python3.11/dist-packages (from kaggle) (2.3.0)\n",
            "Requirement already satisfied: bleach in /usr/local/lib/python3.11/dist-packages (from kaggle) (6.2.0)\n",
            "Requirement already satisfied: webencodings in /usr/local/lib/python3.11/dist-packages (from bleach->kaggle) (0.5.1)\n",
            "Requirement already satisfied: text-unidecode>=1.3 in /usr/local/lib/python3.11/dist-packages (from python-slugify->kaggle) (1.3)\n",
            "Requirement already satisfied: charset-normalizer<4,>=2 in /usr/local/lib/python3.11/dist-packages (from requests->kaggle) (3.4.1)\n",
            "Requirement already satisfied: idna<4,>=2.5 in /usr/local/lib/python3.11/dist-packages (from requests->kaggle) (3.10)\n"
          ]
        },
        {
          "output_type": "display_data",
          "data": {
            "text/plain": [
              "<IPython.core.display.HTML object>"
            ],
            "text/html": [
              "\n",
              "     <input type=\"file\" id=\"files-90a57c43-6501-4935-ab9c-71af23475d83\" name=\"files[]\" multiple disabled\n",
              "        style=\"border:none\" />\n",
              "     <output id=\"result-90a57c43-6501-4935-ab9c-71af23475d83\">\n",
              "      Upload widget is only available when the cell has been executed in the\n",
              "      current browser session. Please rerun this cell to enable.\n",
              "      </output>\n",
              "      <script>// Copyright 2017 Google LLC\n",
              "//\n",
              "// Licensed under the Apache License, Version 2.0 (the \"License\");\n",
              "// you may not use this file except in compliance with the License.\n",
              "// You may obtain a copy of the License at\n",
              "//\n",
              "//      http://www.apache.org/licenses/LICENSE-2.0\n",
              "//\n",
              "// Unless required by applicable law or agreed to in writing, software\n",
              "// distributed under the License is distributed on an \"AS IS\" BASIS,\n",
              "// WITHOUT WARRANTIES OR CONDITIONS OF ANY KIND, either express or implied.\n",
              "// See the License for the specific language governing permissions and\n",
              "// limitations under the License.\n",
              "\n",
              "/**\n",
              " * @fileoverview Helpers for google.colab Python module.\n",
              " */\n",
              "(function(scope) {\n",
              "function span(text, styleAttributes = {}) {\n",
              "  const element = document.createElement('span');\n",
              "  element.textContent = text;\n",
              "  for (const key of Object.keys(styleAttributes)) {\n",
              "    element.style[key] = styleAttributes[key];\n",
              "  }\n",
              "  return element;\n",
              "}\n",
              "\n",
              "// Max number of bytes which will be uploaded at a time.\n",
              "const MAX_PAYLOAD_SIZE = 100 * 1024;\n",
              "\n",
              "function _uploadFiles(inputId, outputId) {\n",
              "  const steps = uploadFilesStep(inputId, outputId);\n",
              "  const outputElement = document.getElementById(outputId);\n",
              "  // Cache steps on the outputElement to make it available for the next call\n",
              "  // to uploadFilesContinue from Python.\n",
              "  outputElement.steps = steps;\n",
              "\n",
              "  return _uploadFilesContinue(outputId);\n",
              "}\n",
              "\n",
              "// This is roughly an async generator (not supported in the browser yet),\n",
              "// where there are multiple asynchronous steps and the Python side is going\n",
              "// to poll for completion of each step.\n",
              "// This uses a Promise to block the python side on completion of each step,\n",
              "// then passes the result of the previous step as the input to the next step.\n",
              "function _uploadFilesContinue(outputId) {\n",
              "  const outputElement = document.getElementById(outputId);\n",
              "  const steps = outputElement.steps;\n",
              "\n",
              "  const next = steps.next(outputElement.lastPromiseValue);\n",
              "  return Promise.resolve(next.value.promise).then((value) => {\n",
              "    // Cache the last promise value to make it available to the next\n",
              "    // step of the generator.\n",
              "    outputElement.lastPromiseValue = value;\n",
              "    return next.value.response;\n",
              "  });\n",
              "}\n",
              "\n",
              "/**\n",
              " * Generator function which is called between each async step of the upload\n",
              " * process.\n",
              " * @param {string} inputId Element ID of the input file picker element.\n",
              " * @param {string} outputId Element ID of the output display.\n",
              " * @return {!Iterable<!Object>} Iterable of next steps.\n",
              " */\n",
              "function* uploadFilesStep(inputId, outputId) {\n",
              "  const inputElement = document.getElementById(inputId);\n",
              "  inputElement.disabled = false;\n",
              "\n",
              "  const outputElement = document.getElementById(outputId);\n",
              "  outputElement.innerHTML = '';\n",
              "\n",
              "  const pickedPromise = new Promise((resolve) => {\n",
              "    inputElement.addEventListener('change', (e) => {\n",
              "      resolve(e.target.files);\n",
              "    });\n",
              "  });\n",
              "\n",
              "  const cancel = document.createElement('button');\n",
              "  inputElement.parentElement.appendChild(cancel);\n",
              "  cancel.textContent = 'Cancel upload';\n",
              "  const cancelPromise = new Promise((resolve) => {\n",
              "    cancel.onclick = () => {\n",
              "      resolve(null);\n",
              "    };\n",
              "  });\n",
              "\n",
              "  // Wait for the user to pick the files.\n",
              "  const files = yield {\n",
              "    promise: Promise.race([pickedPromise, cancelPromise]),\n",
              "    response: {\n",
              "      action: 'starting',\n",
              "    }\n",
              "  };\n",
              "\n",
              "  cancel.remove();\n",
              "\n",
              "  // Disable the input element since further picks are not allowed.\n",
              "  inputElement.disabled = true;\n",
              "\n",
              "  if (!files) {\n",
              "    return {\n",
              "      response: {\n",
              "        action: 'complete',\n",
              "      }\n",
              "    };\n",
              "  }\n",
              "\n",
              "  for (const file of files) {\n",
              "    const li = document.createElement('li');\n",
              "    li.append(span(file.name, {fontWeight: 'bold'}));\n",
              "    li.append(span(\n",
              "        `(${file.type || 'n/a'}) - ${file.size} bytes, ` +\n",
              "        `last modified: ${\n",
              "            file.lastModifiedDate ? file.lastModifiedDate.toLocaleDateString() :\n",
              "                                    'n/a'} - `));\n",
              "    const percent = span('0% done');\n",
              "    li.appendChild(percent);\n",
              "\n",
              "    outputElement.appendChild(li);\n",
              "\n",
              "    const fileDataPromise = new Promise((resolve) => {\n",
              "      const reader = new FileReader();\n",
              "      reader.onload = (e) => {\n",
              "        resolve(e.target.result);\n",
              "      };\n",
              "      reader.readAsArrayBuffer(file);\n",
              "    });\n",
              "    // Wait for the data to be ready.\n",
              "    let fileData = yield {\n",
              "      promise: fileDataPromise,\n",
              "      response: {\n",
              "        action: 'continue',\n",
              "      }\n",
              "    };\n",
              "\n",
              "    // Use a chunked sending to avoid message size limits. See b/62115660.\n",
              "    let position = 0;\n",
              "    do {\n",
              "      const length = Math.min(fileData.byteLength - position, MAX_PAYLOAD_SIZE);\n",
              "      const chunk = new Uint8Array(fileData, position, length);\n",
              "      position += length;\n",
              "\n",
              "      const base64 = btoa(String.fromCharCode.apply(null, chunk));\n",
              "      yield {\n",
              "        response: {\n",
              "          action: 'append',\n",
              "          file: file.name,\n",
              "          data: base64,\n",
              "        },\n",
              "      };\n",
              "\n",
              "      let percentDone = fileData.byteLength === 0 ?\n",
              "          100 :\n",
              "          Math.round((position / fileData.byteLength) * 100);\n",
              "      percent.textContent = `${percentDone}% done`;\n",
              "\n",
              "    } while (position < fileData.byteLength);\n",
              "  }\n",
              "\n",
              "  // All done.\n",
              "  yield {\n",
              "    response: {\n",
              "      action: 'complete',\n",
              "    }\n",
              "  };\n",
              "}\n",
              "\n",
              "scope.google = scope.google || {};\n",
              "scope.google.colab = scope.google.colab || {};\n",
              "scope.google.colab._files = {\n",
              "  _uploadFiles,\n",
              "  _uploadFilesContinue,\n",
              "};\n",
              "})(self);\n",
              "</script> "
            ]
          },
          "metadata": {}
        },
        {
          "output_type": "stream",
          "name": "stdout",
          "text": [
            "Saving titanic dataset.zip to titanic dataset.zip\n",
            "Traceback (most recent call last):\n",
            "  File \"/usr/local/bin/kaggle\", line 4, in <module>\n",
            "    from kaggle.cli import main\n",
            "  File \"/usr/local/lib/python3.11/dist-packages/kaggle/__init__.py\", line 7, in <module>\n",
            "    api.authenticate()\n",
            "  File \"/usr/local/lib/python3.11/dist-packages/kaggle/api/kaggle_api_extended.py\", line 407, in authenticate\n",
            "    raise IOError('Could not find {}. Make sure it\\'s located in'\n",
            "OSError: Could not find kaggle.json. Make sure it's located in /root/.config/kaggle. Or use the environment method. See setup instructions at https://github.com/Kaggle/kaggle-api/\n",
            "unzip:  cannot find or open titanic.zip, titanic.zip.zip or titanic.zip.ZIP.\n"
          ]
        }
      ],
      "source": [
        "!pip install kaggle\n",
        "\n",
        "from google.colab import files\n",
        "files.upload()\n",
        "\n",
        "# !mkdir -p ~/.kaggle\n",
        "# !cp kaggle.json ~/.kaggle/\n",
        "# !chmod 600 ~/.kaggle/kaggle.json\n",
        "\n",
        "!kaggle competitions download -c titanic\n",
        "\n",
        "!unzip titanic.zip"
      ]
    },
    {
      "cell_type": "code",
      "source": [
        "import pandas as pd\n",
        "\n",
        "# Load the Titanic dataset\n",
        "titanic_data = pd.read_csv('train.csv')\n",
        "\n",
        "# Explore the dataset\n",
        "titanic_data.head()\n",
        "titanic_data.info()"
      ],
      "metadata": {
        "colab": {
          "base_uri": "https://localhost:8080/"
        },
        "id": "HPyCIBdbMBn3",
        "outputId": "30e19b32-266a-4fc1-c3d1-c109011de8dd"
      },
      "execution_count": 2,
      "outputs": [
        {
          "output_type": "stream",
          "name": "stdout",
          "text": [
            "<class 'pandas.core.frame.DataFrame'>\n",
            "RangeIndex: 891 entries, 0 to 890\n",
            "Data columns (total 12 columns):\n",
            " #   Column       Non-Null Count  Dtype  \n",
            "---  ------       --------------  -----  \n",
            " 0   PassengerId  891 non-null    int64  \n",
            " 1   Survived     891 non-null    int64  \n",
            " 2   Pclass       891 non-null    int64  \n",
            " 3   Name         891 non-null    object \n",
            " 4   Sex          891 non-null    object \n",
            " 5   Age          714 non-null    float64\n",
            " 6   SibSp        891 non-null    int64  \n",
            " 7   Parch        891 non-null    int64  \n",
            " 8   Ticket       891 non-null    object \n",
            " 9   Fare         891 non-null    float64\n",
            " 10  Cabin        204 non-null    object \n",
            " 11  Embarked     889 non-null    object \n",
            "dtypes: float64(2), int64(5), object(5)\n",
            "memory usage: 83.7+ KB\n"
          ]
        }
      ]
    },
    {
      "cell_type": "code",
      "source": [
        "# check for duplicates\n",
        "duplicate_rows = titanic_data.duplicated().sum()\n",
        "\n",
        "print(f\"Number of duplicate rows: {duplicate_rows}\")\n"
      ],
      "metadata": {
        "colab": {
          "base_uri": "https://localhost:8080/"
        },
        "id": "Swk5HuIPM8lT",
        "outputId": "d0c993f3-294f-4f53-aac6-8942f64a29b7"
      },
      "execution_count": 3,
      "outputs": [
        {
          "output_type": "stream",
          "name": "stdout",
          "text": [
            "Number of duplicate rows: 0\n"
          ]
        }
      ]
    },
    {
      "cell_type": "code",
      "source": [
        "#remove duplicates\n",
        "titanic_data_cleaned = titanic_data.drop_duplicates()\n",
        "\n",
        "#see changes\n",
        "print(f\"Rows before removing duplicates: {titanic_data.shape[0]}\")\n",
        "print(f\"Rows after removing duplicates: {titanic_data_cleaned.shape[0]}\")\n"
      ],
      "metadata": {
        "colab": {
          "base_uri": "https://localhost:8080/"
        },
        "id": "_KYLevnyM9PC",
        "outputId": "338b2bfd-c5fe-424e-ff6a-0024653110c6"
      },
      "execution_count": 4,
      "outputs": [
        {
          "output_type": "stream",
          "name": "stdout",
          "text": [
            "Rows before removing duplicates: 891\n",
            "Rows after removing duplicates: 891\n"
          ]
        }
      ]
    },
    {
      "cell_type": "code",
      "source": [
        "# verify\n",
        "print(f\"Remaining duplicate rows: {titanic_data_cleaned.duplicated().sum()}\")\n"
      ],
      "metadata": {
        "colab": {
          "base_uri": "https://localhost:8080/"
        },
        "id": "mga7yajfNL5K",
        "outputId": "5079fc1d-529f-4214-bea3-e8a59b29bde6"
      },
      "execution_count": 5,
      "outputs": [
        {
          "output_type": "stream",
          "name": "stdout",
          "text": [
            "Remaining duplicate rows: 0\n"
          ]
        }
      ]
    },
    {
      "cell_type": "markdown",
      "source": [
        "# **🌟 Exercise 2: Handling Missing Values**"
      ],
      "metadata": {
        "id": "4QLBvcD4NlEs"
      }
    },
    {
      "cell_type": "code",
      "source": [
        "from sklearn.impute import SimpleImputer\n",
        "\n",
        "# Load the Titanic dataset & make a copy for comparing\n",
        "titanic_data = pd.read_csv('train.csv')\n",
        "titanic_data_cleaned = titanic_data.copy()\n",
        "\n",
        "titanic_data_cleaned.info()\n",
        "print(titanic_data_cleaned.head())\n"
      ],
      "metadata": {
        "colab": {
          "base_uri": "https://localhost:8080/"
        },
        "id": "g0dhwcfmKt4Z",
        "outputId": "681b9f66-80ff-4ca6-ded1-7519e34486f1"
      },
      "execution_count": 6,
      "outputs": [
        {
          "output_type": "stream",
          "name": "stdout",
          "text": [
            "<class 'pandas.core.frame.DataFrame'>\n",
            "RangeIndex: 891 entries, 0 to 890\n",
            "Data columns (total 12 columns):\n",
            " #   Column       Non-Null Count  Dtype  \n",
            "---  ------       --------------  -----  \n",
            " 0   PassengerId  891 non-null    int64  \n",
            " 1   Survived     891 non-null    int64  \n",
            " 2   Pclass       891 non-null    int64  \n",
            " 3   Name         891 non-null    object \n",
            " 4   Sex          891 non-null    object \n",
            " 5   Age          714 non-null    float64\n",
            " 6   SibSp        891 non-null    int64  \n",
            " 7   Parch        891 non-null    int64  \n",
            " 8   Ticket       891 non-null    object \n",
            " 9   Fare         891 non-null    float64\n",
            " 10  Cabin        204 non-null    object \n",
            " 11  Embarked     889 non-null    object \n",
            "dtypes: float64(2), int64(5), object(5)\n",
            "memory usage: 83.7+ KB\n",
            "   PassengerId  Survived  Pclass  \\\n",
            "0            1         0       3   \n",
            "1            2         1       1   \n",
            "2            3         1       3   \n",
            "3            4         1       1   \n",
            "4            5         0       3   \n",
            "\n",
            "                                                Name     Sex   Age  SibSp  \\\n",
            "0                            Braund, Mr. Owen Harris    male  22.0      1   \n",
            "1  Cumings, Mrs. John Bradley (Florence Briggs Th...  female  38.0      1   \n",
            "2                             Heikkinen, Miss. Laina  female  26.0      0   \n",
            "3       Futrelle, Mrs. Jacques Heath (Lily May Peel)  female  35.0      1   \n",
            "4                           Allen, Mr. William Henry    male  35.0      0   \n",
            "\n",
            "   Parch            Ticket     Fare Cabin Embarked  \n",
            "0      0         A/5 21171   7.2500   NaN        S  \n",
            "1      0          PC 17599  71.2833   C85        C  \n",
            "2      0  STON/O2. 3101282   7.9250   NaN        S  \n",
            "3      0            113803  53.1000  C123        S  \n",
            "4      0            373450   8.0500   NaN        S  \n"
          ]
        }
      ]
    },
    {
      "cell_type": "code",
      "source": [
        "missing_values = titanic_data_cleaned.isnull().sum()\n",
        "print(\"\\n Missing values per column before handling:\\n\",missing_values)"
      ],
      "metadata": {
        "colab": {
          "base_uri": "https://localhost:8080/"
        },
        "id": "4ilhihu_LegZ",
        "outputId": "9661a859-4388-4e7a-fa59-82e9a45a3fe1"
      },
      "execution_count": 7,
      "outputs": [
        {
          "output_type": "stream",
          "name": "stdout",
          "text": [
            "\n",
            " Missing values per column before handling:\n",
            " PassengerId      0\n",
            "Survived         0\n",
            "Pclass           0\n",
            "Name             0\n",
            "Sex              0\n",
            "Age            177\n",
            "SibSp            0\n",
            "Parch            0\n",
            "Ticket           0\n",
            "Fare             0\n",
            "Cabin          687\n",
            "Embarked         2\n",
            "dtype: int64\n"
          ]
        }
      ]
    },
    {
      "cell_type": "code",
      "source": [
        "#removing duplicates\n",
        "titanic_data_no_missing = titanic_data_cleaned.dropna()\n",
        "print(f\"\\nRows before dropping all missing values: {titanic_data_cleaned.shape[0]}\")\n",
        "print(f\"Rows after dropping all missing values: {titanic_data_no_missing.shape[0]}\")"
      ],
      "metadata": {
        "colab": {
          "base_uri": "https://localhost:8080/"
        },
        "id": "XWGoy5ZvMQV2",
        "outputId": "e8f12a65-8e31-497d-d5e3-efcbdeb7457e"
      },
      "execution_count": 8,
      "outputs": [
        {
          "output_type": "stream",
          "name": "stdout",
          "text": [
            "\n",
            "Rows before dropping all missing values: 891\n",
            "Rows after dropping all missing values: 183\n"
          ]
        }
      ]
    },
    {
      "cell_type": "code",
      "source": [
        "# Creating separate imputed datasets\n",
        "titanic_data_imputed = titanic_data_cleaned.copy()"
      ],
      "metadata": {
        "id": "4mh9wot6McjV"
      },
      "execution_count": 9,
      "outputs": []
    },
    {
      "cell_type": "code",
      "source": [
        "# Fill 'Age' with median\n",
        "age_imputer = SimpleImputer(strategy=\"median\")\n",
        "titanic_data_imputed['Age'] = age_imputer.fit_transform(titanic_data_imputed[['Age']])\n",
        "\n",
        "print(titanic_data_imputed['Age'])\n",
        "print(titanic_data_imputed.isnull().sum())"
      ],
      "metadata": {
        "colab": {
          "base_uri": "https://localhost:8080/"
        },
        "id": "5nwVw4jEMiMp",
        "outputId": "eb3983e7-8660-49f5-9953-0e67be72e11d"
      },
      "execution_count": 10,
      "outputs": [
        {
          "output_type": "stream",
          "name": "stdout",
          "text": [
            "0      22.0\n",
            "1      38.0\n",
            "2      26.0\n",
            "3      35.0\n",
            "4      35.0\n",
            "       ... \n",
            "886    27.0\n",
            "887    19.0\n",
            "888    28.0\n",
            "889    26.0\n",
            "890    32.0\n",
            "Name: Age, Length: 891, dtype: float64\n",
            "PassengerId      0\n",
            "Survived         0\n",
            "Pclass           0\n",
            "Name             0\n",
            "Sex              0\n",
            "Age              0\n",
            "SibSp            0\n",
            "Parch            0\n",
            "Ticket           0\n",
            "Fare             0\n",
            "Cabin          687\n",
            "Embarked         2\n",
            "dtype: int64\n"
          ]
        }
      ]
    },
    {
      "cell_type": "code",
      "source": [
        "# Fill 'Embarked' with the most frequent value\n",
        "embarked_imputer = SimpleImputer(strategy=\"most_frequent\")\n",
        "titanic_data_imputed['Embarked'] = embarked_imputer.fit_transform(titanic_data_imputed['Embarked'].values.reshape(-1, 1))[:,0]\n",
        "\n",
        "print(titanic_data_imputed['Embarked'])\n",
        "print(titanic_data_imputed.isnull().sum())"
      ],
      "metadata": {
        "colab": {
          "base_uri": "https://localhost:8080/"
        },
        "id": "mUpKGEEhOLql",
        "outputId": "094aaccb-319f-4cce-e26f-8a762255a022"
      },
      "execution_count": 11,
      "outputs": [
        {
          "output_type": "stream",
          "name": "stdout",
          "text": [
            "0      S\n",
            "1      C\n",
            "2      S\n",
            "3      S\n",
            "4      S\n",
            "      ..\n",
            "886    S\n",
            "887    S\n",
            "888    S\n",
            "889    C\n",
            "890    Q\n",
            "Name: Embarked, Length: 891, dtype: object\n",
            "PassengerId      0\n",
            "Survived         0\n",
            "Pclass           0\n",
            "Name             0\n",
            "Sex              0\n",
            "Age              0\n",
            "SibSp            0\n",
            "Parch            0\n",
            "Ticket           0\n",
            "Fare             0\n",
            "Cabin          687\n",
            "Embarked         0\n",
            "dtype: int64\n"
          ]
        }
      ]
    },
    {
      "cell_type": "code",
      "source": [
        "# Fill 'Cabin' with 'Unknown'\n",
        "titanic_data_imputed['Cabin'] = titanic_data_imputed['Cabin'].fillna(\"Unknown\")\n",
        "\n",
        "print(titanic_data_imputed['Cabin'])\n",
        "print(titanic_data_imputed.isnull().sum())"
      ],
      "metadata": {
        "colab": {
          "base_uri": "https://localhost:8080/"
        },
        "id": "BuC2RXKnOZvM",
        "outputId": "a8f854c1-1cd0-4858-b91c-226ab7815ce9"
      },
      "execution_count": 12,
      "outputs": [
        {
          "output_type": "stream",
          "name": "stdout",
          "text": [
            "0      Unknown\n",
            "1          C85\n",
            "2      Unknown\n",
            "3         C123\n",
            "4      Unknown\n",
            "        ...   \n",
            "886    Unknown\n",
            "887        B42\n",
            "888    Unknown\n",
            "889       C148\n",
            "890    Unknown\n",
            "Name: Cabin, Length: 891, dtype: object\n",
            "PassengerId    0\n",
            "Survived       0\n",
            "Pclass         0\n",
            "Name           0\n",
            "Sex            0\n",
            "Age            0\n",
            "SibSp          0\n",
            "Parch          0\n",
            "Ticket         0\n",
            "Fare           0\n",
            "Cabin          0\n",
            "Embarked       0\n",
            "dtype: int64\n"
          ]
        }
      ]
    },
    {
      "cell_type": "markdown",
      "source": [
        "# **🌟 Exercise 3: Feature Engineering**"
      ],
      "metadata": {
        "id": "zYtZ6T7iOjQ1"
      }
    },
    {
      "cell_type": "code",
      "source": [
        "titanic_data_fe = titanic_data_cleaned.copy()\n",
        "\n",
        "# Create Family Size feature\n",
        "titanic_data_fe['FamilySize'] = titanic_data_fe['SibSp'] + titanic_data_fe['Parch'] + 1\n",
        "\n",
        "print(titanic_data_fe[['SibSp', 'Parch', 'FamilySize']].head())  # View changes\n"
      ],
      "metadata": {
        "colab": {
          "base_uri": "https://localhost:8080/"
        },
        "id": "tcXOtP79Oi7w",
        "outputId": "975884e3-5562-4fe2-ea91-0955c257eaeb"
      },
      "execution_count": 13,
      "outputs": [
        {
          "output_type": "stream",
          "name": "stdout",
          "text": [
            "   SibSp  Parch  FamilySize\n",
            "0      1      0           2\n",
            "1      1      0           2\n",
            "2      0      0           1\n",
            "3      1      0           2\n",
            "4      0      0           1\n"
          ]
        }
      ]
    },
    {
      "cell_type": "code",
      "source": [
        "# Extract Title from Name\n",
        "titanic_data_fe['Title'] = titanic_data_fe['Name'].str.extract(r' ([A-Za-z]+)\\.')\n",
        "\n",
        "# View unique titles\n",
        "print(titanic_data_fe['Title'].value_counts())"
      ],
      "metadata": {
        "colab": {
          "base_uri": "https://localhost:8080/"
        },
        "id": "4XGOADkPPFgg",
        "outputId": "0e907950-d10d-48dd-a678-505a3b919404"
      },
      "execution_count": 14,
      "outputs": [
        {
          "output_type": "stream",
          "name": "stdout",
          "text": [
            "Title\n",
            "Mr          517\n",
            "Miss        182\n",
            "Mrs         125\n",
            "Master       40\n",
            "Dr            7\n",
            "Rev           6\n",
            "Mlle          2\n",
            "Major         2\n",
            "Col           2\n",
            "Countess      1\n",
            "Capt          1\n",
            "Ms            1\n",
            "Sir           1\n",
            "Lady          1\n",
            "Mme           1\n",
            "Don           1\n",
            "Jonkheer      1\n",
            "Name: count, dtype: int64\n"
          ]
        }
      ]
    },
    {
      "cell_type": "code",
      "source": [
        "title_mapping = {\n",
        "    \"Mlle\": \"Miss\", \"Ms\": \"Miss\", \"Mme\": \"Mrs\",\n",
        "    \"Lady\": \"Royalty\", \"Countess\": \"Royalty\", \"Dona\": \"Royalty\",\n",
        "    \"Dr\": \"Other\", \"Rev\": \"Other\", \"Col\": \"Other\", \"Major\": \"Other\",\n",
        "    \"Capt\": \"Other\", \"Jonkheer\": \"Royalty\", \"Sir\": \"Royalty\"\n",
        "}\n",
        "\n",
        "titanic_data_fe['Title'] = titanic_data_fe['Title'].replace(title_mapping)\n",
        "print(titanic_data_fe['Title'].value_counts())  # Check results"
      ],
      "metadata": {
        "colab": {
          "base_uri": "https://localhost:8080/"
        },
        "id": "zyUya-8GPJS7",
        "outputId": "3ad3883e-ba04-4f6a-baad-fc09c04d7a82"
      },
      "execution_count": 15,
      "outputs": [
        {
          "output_type": "stream",
          "name": "stdout",
          "text": [
            "Title\n",
            "Mr         517\n",
            "Miss       185\n",
            "Mrs        126\n",
            "Master      40\n",
            "Other       18\n",
            "Royalty      4\n",
            "Don          1\n",
            "Name: count, dtype: int64\n"
          ]
        }
      ]
    },
    {
      "cell_type": "code",
      "source": [
        "# Apply One-Hot Encoding to Embarked and Title\n",
        "titanic_data_fe = pd.get_dummies(titanic_data_fe, columns=['Title'], drop_first=True)\n",
        "\n",
        "print(titanic_data_fe.head())  # View new columns"
      ],
      "metadata": {
        "colab": {
          "base_uri": "https://localhost:8080/"
        },
        "id": "2aGP1XjbP9vP",
        "outputId": "1afc61f9-d996-4e87-b11b-84b4995ae7ec"
      },
      "execution_count": 16,
      "outputs": [
        {
          "output_type": "stream",
          "name": "stdout",
          "text": [
            "   PassengerId  Survived  Pclass  \\\n",
            "0            1         0       3   \n",
            "1            2         1       1   \n",
            "2            3         1       3   \n",
            "3            4         1       1   \n",
            "4            5         0       3   \n",
            "\n",
            "                                                Name     Sex   Age  SibSp  \\\n",
            "0                            Braund, Mr. Owen Harris    male  22.0      1   \n",
            "1  Cumings, Mrs. John Bradley (Florence Briggs Th...  female  38.0      1   \n",
            "2                             Heikkinen, Miss. Laina  female  26.0      0   \n",
            "3       Futrelle, Mrs. Jacques Heath (Lily May Peel)  female  35.0      1   \n",
            "4                           Allen, Mr. William Henry    male  35.0      0   \n",
            "\n",
            "   Parch            Ticket     Fare Cabin Embarked  FamilySize  Title_Master  \\\n",
            "0      0         A/5 21171   7.2500   NaN        S           2         False   \n",
            "1      0          PC 17599  71.2833   C85        C           2         False   \n",
            "2      0  STON/O2. 3101282   7.9250   NaN        S           1         False   \n",
            "3      0            113803  53.1000  C123        S           2         False   \n",
            "4      0            373450   8.0500   NaN        S           1         False   \n",
            "\n",
            "   Title_Miss  Title_Mr  Title_Mrs  Title_Other  Title_Royalty  \n",
            "0       False      True      False        False          False  \n",
            "1       False     False       True        False          False  \n",
            "2        True     False      False        False          False  \n",
            "3       False     False       True        False          False  \n",
            "4       False      True      False        False          False  \n"
          ]
        }
      ]
    },
    {
      "cell_type": "code",
      "source": [
        "from sklearn.preprocessing import LabelEncoder\n",
        "\n",
        "# Encode Sex (0 = female, 1 = male)\n",
        "sex_encoder = LabelEncoder()\n",
        "titanic_data_fe['Sex'] = sex_encoder.fit_transform(titanic_data_fe['Sex'])\n",
        "\n",
        "print(titanic_data_fe[['Sex']].head())  # Check encoding"
      ],
      "metadata": {
        "colab": {
          "base_uri": "https://localhost:8080/"
        },
        "id": "p8bu5jfXRNQx",
        "outputId": "d80772cd-6584-4b88-c10d-b321b6cf6d3c"
      },
      "execution_count": 17,
      "outputs": [
        {
          "output_type": "stream",
          "name": "stdout",
          "text": [
            "   Sex\n",
            "0    1\n",
            "1    0\n",
            "2    0\n",
            "3    0\n",
            "4    1\n"
          ]
        }
      ]
    },
    {
      "cell_type": "code",
      "source": [
        "from sklearn.preprocessing import StandardScaler\n",
        "\n",
        "# Select numerical columns to scale\n",
        "num_features = ['Age', 'Fare', 'FamilySize']\n",
        "\n",
        "scaler = StandardScaler()\n",
        "titanic_data_fe[num_features] = scaler.fit_transform(titanic_data_fe[num_features])\n",
        "\n",
        "print(titanic_data_fe[num_features].head())  # Check scaled values\n"
      ],
      "metadata": {
        "colab": {
          "base_uri": "https://localhost:8080/"
        },
        "id": "n1Iv6MnqRR5S",
        "outputId": "8e6ce406-cbc7-4652-fa0e-c404f2379634"
      },
      "execution_count": 18,
      "outputs": [
        {
          "output_type": "stream",
          "name": "stdout",
          "text": [
            "        Age      Fare  FamilySize\n",
            "0 -0.530377 -0.502445    0.059160\n",
            "1  0.571831  0.786845    0.059160\n",
            "2 -0.254825 -0.488854   -0.560975\n",
            "3  0.365167  0.420730    0.059160\n",
            "4  0.365167 -0.486337   -0.560975\n"
          ]
        }
      ]
    },
    {
      "cell_type": "code",
      "source": [],
      "metadata": {
        "id": "SS85e5_9RUwF"
      },
      "execution_count": null,
      "outputs": []
    },
    {
      "cell_type": "markdown",
      "source": [
        "# **🌟 Exercise 4: Outlier Detection and Handling**"
      ],
      "metadata": {
        "id": "bOQOm4CxRV0w"
      }
    },
    {
      "cell_type": "code",
      "source": [
        "# Function to detect outliers using IQR\n",
        "def detect_outliers_iqr(data, column):\n",
        "    Q1 = data[column].quantile(0.25)  # First quartile (25th percentile)\n",
        "    Q3 = data[column].quantile(0.75)  # Third quartile (75th percentile)\n",
        "    IQR = Q3 - Q1  # Interquartile range\n",
        "\n",
        "    lower_bound = Q1 - 1.5 * IQR\n",
        "    upper_bound = Q3 + 1.5 * IQR\n",
        "\n",
        "    outliers = data[(data[column] < lower_bound) | (data[column] > upper_bound)]\n",
        "\n",
        "    print(f\"Number of outliers in {column}: {outliers.shape[0]}\")\n",
        "    return outliers\n",
        "\n",
        "# Detect outliers in Fare and Age\n",
        "outliers_fare = detect_outliers_iqr(titanic_data_fe, 'Fare')\n",
        "outliers_age = detect_outliers_iqr(titanic_data_fe, 'Age')\n"
      ],
      "metadata": {
        "colab": {
          "base_uri": "https://localhost:8080/"
        },
        "id": "BQYYM6OPRb7L",
        "outputId": "2356aca9-02be-417b-b838-b17dee0d188d"
      },
      "execution_count": 19,
      "outputs": [
        {
          "output_type": "stream",
          "name": "stdout",
          "text": [
            "Number of outliers in Fare: 116\n",
            "Number of outliers in Age: 11\n"
          ]
        }
      ]
    },
    {
      "cell_type": "code",
      "source": [
        "import numpy as np\n",
        "from scipy.stats import zscore\n",
        "\n",
        "# Compute Z-scores\n",
        "titanic_data_fe['Fare_Zscore'] = zscore(titanic_data_fe['Fare'])\n",
        "titanic_data_fe['Age_Zscore'] = zscore(titanic_data_fe['Age'])\n",
        "\n",
        "# Identify outliers using Z-score\n",
        "outliers_fare_z = titanic_data_fe[np.abs(titanic_data_fe['Fare_Zscore']) > 3]\n",
        "outliers_age_z = titanic_data_fe[np.abs(titanic_data_fe['Age_Zscore']) > 3]\n",
        "\n",
        "print(f\"Number of outliers in Fare (Z-score method): {outliers_fare_z.shape[0]}\")\n",
        "print(f\"Number of outliers in Age (Z-score method): {outliers_age_z.shape[0]}\")\n"
      ],
      "metadata": {
        "colab": {
          "base_uri": "https://localhost:8080/"
        },
        "id": "otr6DtxIRmTw",
        "outputId": "cb5befc6-3b9a-42a4-873b-f7e1b73fce0a"
      },
      "execution_count": 20,
      "outputs": [
        {
          "output_type": "stream",
          "name": "stdout",
          "text": [
            "Number of outliers in Fare (Z-score method): 20\n",
            "Number of outliers in Age (Z-score method): 0\n"
          ]
        }
      ]
    },
    {
      "cell_type": "markdown",
      "source": [
        "# **🌟 Exercise 5: Data Standardization and Normalization**"
      ],
      "metadata": {
        "id": "TNEA1upmSeL2"
      }
    },
    {
      "cell_type": "code",
      "source": [
        "# Check summary statistics of numerical features\n",
        "print(titanic_data_fe.describe())"
      ],
      "metadata": {
        "colab": {
          "base_uri": "https://localhost:8080/"
        },
        "id": "IsvEdYdnR-T4",
        "outputId": "086a0e33-61ef-41a1-fd65-81591e100201"
      },
      "execution_count": 21,
      "outputs": [
        {
          "output_type": "stream",
          "name": "stdout",
          "text": [
            "       PassengerId    Survived      Pclass         Sex           Age  \\\n",
            "count   891.000000  891.000000  891.000000  891.000000  7.140000e+02   \n",
            "mean    446.000000    0.383838    2.308642    0.647587  2.388379e-16   \n",
            "std     257.353842    0.486592    0.836071    0.477990  1.000701e+00   \n",
            "min       1.000000    0.000000    1.000000    0.000000 -2.016979e+00   \n",
            "25%     223.500000    0.000000    2.000000    0.000000 -6.595416e-01   \n",
            "50%     446.000000    0.000000    3.000000    1.000000 -1.170488e-01   \n",
            "75%     668.500000    1.000000    3.000000    1.000000  5.718310e-01   \n",
            "max     891.000000    1.000000    3.000000    1.000000  3.465126e+00   \n",
            "\n",
            "            SibSp       Parch          Fare    FamilySize   Fare_Zscore  \\\n",
            "count  891.000000  891.000000  8.910000e+02  8.910000e+02  8.910000e+02   \n",
            "mean     0.523008    0.381594  3.987333e-18 -2.392400e-17  3.987333e-18   \n",
            "std      1.102743    0.806057  1.000562e+00  1.000562e+00  1.000562e+00   \n",
            "min      0.000000    0.000000 -6.484217e-01 -5.609748e-01 -6.484217e-01   \n",
            "25%      0.000000    0.000000 -4.891482e-01 -5.609748e-01 -4.891482e-01   \n",
            "50%      0.000000    0.000000 -3.573909e-01 -5.609748e-01 -3.573909e-01   \n",
            "75%      1.000000    0.000000 -2.424635e-02  5.915988e-02 -2.424635e-02   \n",
            "max      8.000000    6.000000  9.667167e+00  5.640372e+00  9.667167e+00   \n",
            "\n",
            "       Age_Zscore  \n",
            "count         0.0  \n",
            "mean          NaN  \n",
            "std           NaN  \n",
            "min           NaN  \n",
            "25%           NaN  \n",
            "50%           NaN  \n",
            "75%           NaN  \n",
            "max           NaN  \n"
          ]
        }
      ]
    },
    {
      "cell_type": "code",
      "source": [
        "from sklearn.preprocessing import StandardScaler\n",
        "\n",
        "# Standardize numerical features with a wide range\n",
        "num_features_standard = ['Age', 'Fare', 'FamilySize']\n",
        "\n",
        "scaler = StandardScaler()\n",
        "titanic_data_fe[num_features_standard] = scaler.fit_transform(titanic_data_fe[num_features_standard])\n",
        "\n",
        "print(titanic_data_fe[num_features_standard].head())  # Check standardized values\n"
      ],
      "metadata": {
        "colab": {
          "base_uri": "https://localhost:8080/"
        },
        "id": "qixWChzoSkSN",
        "outputId": "3f6ac317-a7c3-486f-fc2b-81d7b329eae8"
      },
      "execution_count": 22,
      "outputs": [
        {
          "output_type": "stream",
          "name": "stdout",
          "text": [
            "        Age      Fare  FamilySize\n",
            "0 -0.530377 -0.502445    0.059160\n",
            "1  0.571831  0.786845    0.059160\n",
            "2 -0.254825 -0.488854   -0.560975\n",
            "3  0.365167  0.420730    0.059160\n",
            "4  0.365167 -0.486337   -0.560975\n"
          ]
        }
      ]
    },
    {
      "cell_type": "code",
      "source": [
        "from sklearn.preprocessing import MinMaxScaler\n",
        "\n",
        "# Normalize features that should be within [0,1] range\n",
        "num_features_normalize = ['Age', 'Fare', 'FamilySize']\n",
        "\n",
        "scaler_minmax = MinMaxScaler()\n",
        "titanic_data_fe[num_features_normalize] = scaler_minmax.fit_transform(titanic_data_fe[num_features_normalize])\n",
        "\n",
        "print(titanic_data_fe[num_features_normalize].head())  # Check normalized values\n"
      ],
      "metadata": {
        "colab": {
          "base_uri": "https://localhost:8080/"
        },
        "id": "6tQMW-OPSpR4",
        "outputId": "a2fb057d-9068-4cb1-a9a8-88e064a96761"
      },
      "execution_count": 23,
      "outputs": [
        {
          "output_type": "stream",
          "name": "stdout",
          "text": [
            "        Age      Fare  FamilySize\n",
            "0  0.271174  0.014151         0.1\n",
            "1  0.472229  0.139136         0.1\n",
            "2  0.321438  0.015469         0.0\n",
            "3  0.434531  0.103644         0.1\n",
            "4  0.434531  0.015713         0.0\n"
          ]
        }
      ]
    },
    {
      "cell_type": "code",
      "source": [
        "print(titanic_data_fe[num_features_standard].describe())  # Standardized features\n",
        "print(titanic_data_fe[num_features_normalize].describe())  # Normalized features\n"
      ],
      "metadata": {
        "colab": {
          "base_uri": "https://localhost:8080/"
        },
        "id": "1wK0p99kStbj",
        "outputId": "b715e342-c666-495c-d1ca-ecc8ee0ff91f"
      },
      "execution_count": 24,
      "outputs": [
        {
          "output_type": "stream",
          "name": "stdout",
          "text": [
            "              Age        Fare  FamilySize\n",
            "count  714.000000  891.000000  891.000000\n",
            "mean     0.367921    0.062858    0.090460\n",
            "std      0.182540    0.096995    0.161346\n",
            "min      0.000000    0.000000    0.000000\n",
            "25%      0.247612    0.015440    0.000000\n",
            "50%      0.346569    0.028213    0.000000\n",
            "75%      0.472229    0.060508    0.100000\n",
            "max      1.000000    1.000000    1.000000\n",
            "              Age        Fare  FamilySize\n",
            "count  714.000000  891.000000  891.000000\n",
            "mean     0.367921    0.062858    0.090460\n",
            "std      0.182540    0.096995    0.161346\n",
            "min      0.000000    0.000000    0.000000\n",
            "25%      0.247612    0.015440    0.000000\n",
            "50%      0.346569    0.028213    0.000000\n",
            "75%      0.472229    0.060508    0.100000\n",
            "max      1.000000    1.000000    1.000000\n"
          ]
        }
      ]
    },
    {
      "cell_type": "markdown",
      "source": [
        "# **🌟 Exercise 6: Feature Encoding**"
      ],
      "metadata": {
        "id": "o1OHRegNSx_U"
      }
    },
    {
      "cell_type": "code",
      "source": [
        "# One-hot encode 'Embarked'\n",
        "titanic_data_fe = pd.get_dummies(titanic_data_fe, columns=['Embarked'], drop_first=True)\n",
        "\n",
        "print(titanic_data_fe.head())  # Check new columns"
      ],
      "metadata": {
        "colab": {
          "base_uri": "https://localhost:8080/"
        },
        "id": "yDUzxvehTG_Q",
        "outputId": "93880ed4-25bb-4691-ec5e-10b707f9657d"
      },
      "execution_count": 28,
      "outputs": [
        {
          "output_type": "stream",
          "name": "stdout",
          "text": [
            "   PassengerId  Survived  Pclass  \\\n",
            "0            1         0       3   \n",
            "1            2         1       1   \n",
            "2            3         1       3   \n",
            "3            4         1       1   \n",
            "4            5         0       3   \n",
            "\n",
            "                                                Name  Sex       Age  SibSp  \\\n",
            "0                            Braund, Mr. Owen Harris    1  0.271174      1   \n",
            "1  Cumings, Mrs. John Bradley (Florence Briggs Th...    0  0.472229      1   \n",
            "2                             Heikkinen, Miss. Laina    0  0.321438      0   \n",
            "3       Futrelle, Mrs. Jacques Heath (Lily May Peel)    0  0.434531      1   \n",
            "4                           Allen, Mr. William Henry    1  0.434531      0   \n",
            "\n",
            "   Parch            Ticket      Fare  ... Title_Master  Title_Miss  Title_Mr  \\\n",
            "0      0         A/5 21171  0.014151  ...        False       False      True   \n",
            "1      0          PC 17599  0.139136  ...        False       False     False   \n",
            "2      0  STON/O2. 3101282  0.015469  ...        False        True     False   \n",
            "3      0            113803  0.103644  ...        False       False     False   \n",
            "4      0            373450  0.015713  ...        False       False      True   \n",
            "\n",
            "   Title_Mrs  Title_Other  Title_Royalty  Fare_Zscore  Age_Zscore  Embarked_Q  \\\n",
            "0      False        False          False    -0.502445         NaN       False   \n",
            "1       True        False          False     0.786845         NaN       False   \n",
            "2      False        False          False    -0.488854         NaN       False   \n",
            "3       True        False          False     0.420730         NaN       False   \n",
            "4      False        False          False    -0.486337         NaN       False   \n",
            "\n",
            "   Embarked_S  \n",
            "0        True  \n",
            "1       False  \n",
            "2        True  \n",
            "3        True  \n",
            "4        True  \n",
            "\n",
            "[5 rows x 22 columns]\n"
          ]
        }
      ]
    },
    {
      "cell_type": "code",
      "source": [
        "from sklearn.preprocessing import LabelEncoder\n",
        "\n",
        "# Label encode 'Sex'\n",
        "sex_encoder = LabelEncoder()\n",
        "titanic_data_fe['Sex'] = sex_encoder.fit_transform(titanic_data_fe['Sex'])  # 0 = Female, 1 = Male\n",
        "\n",
        "# Encode 'Pclass' as ordinal (though it is often used as categorical)\n",
        "pclass_encoder = LabelEncoder()\n",
        "titanic_data_fe['Pclass'] = pclass_encoder.fit_transform(titanic_data_fe['Pclass'])\n",
        "\n",
        "print(titanic_data_fe[['Sex', 'Pclass']].head())  # Check encoded values"
      ],
      "metadata": {
        "colab": {
          "base_uri": "https://localhost:8080/"
        },
        "id": "gH6LLbNATWdD",
        "outputId": "5784e7e7-2aa8-4518-fb5d-692b5449c460"
      },
      "execution_count": 29,
      "outputs": [
        {
          "output_type": "stream",
          "name": "stdout",
          "text": [
            "   Sex  Pclass\n",
            "0    1       2\n",
            "1    0       0\n",
            "2    0       2\n",
            "3    0       0\n",
            "4    1       2\n"
          ]
        }
      ]
    },
    {
      "cell_type": "code",
      "source": [
        "print(titanic_data_fe.info())  # Check data types after encoding"
      ],
      "metadata": {
        "colab": {
          "base_uri": "https://localhost:8080/"
        },
        "id": "WpN2ax0uTYgT",
        "outputId": "cd619778-81b6-4fbf-f274-fa19eff718c6"
      },
      "execution_count": 30,
      "outputs": [
        {
          "output_type": "stream",
          "name": "stdout",
          "text": [
            "<class 'pandas.core.frame.DataFrame'>\n",
            "RangeIndex: 891 entries, 0 to 890\n",
            "Data columns (total 22 columns):\n",
            " #   Column         Non-Null Count  Dtype  \n",
            "---  ------         --------------  -----  \n",
            " 0   PassengerId    891 non-null    int64  \n",
            " 1   Survived       891 non-null    int64  \n",
            " 2   Pclass         891 non-null    int64  \n",
            " 3   Name           891 non-null    object \n",
            " 4   Sex            891 non-null    int64  \n",
            " 5   Age            714 non-null    float64\n",
            " 6   SibSp          891 non-null    int64  \n",
            " 7   Parch          891 non-null    int64  \n",
            " 8   Ticket         891 non-null    object \n",
            " 9   Fare           891 non-null    float64\n",
            " 10  Cabin          204 non-null    object \n",
            " 11  FamilySize     891 non-null    float64\n",
            " 12  Title_Master   891 non-null    bool   \n",
            " 13  Title_Miss     891 non-null    bool   \n",
            " 14  Title_Mr       891 non-null    bool   \n",
            " 15  Title_Mrs      891 non-null    bool   \n",
            " 16  Title_Other    891 non-null    bool   \n",
            " 17  Title_Royalty  891 non-null    bool   \n",
            " 18  Fare_Zscore    891 non-null    float64\n",
            " 19  Age_Zscore     0 non-null      float64\n",
            " 20  Embarked_Q     891 non-null    bool   \n",
            " 21  Embarked_S     891 non-null    bool   \n",
            "dtypes: bool(8), float64(5), int64(6), object(3)\n",
            "memory usage: 104.5+ KB\n",
            "None\n"
          ]
        }
      ]
    },
    {
      "cell_type": "markdown",
      "source": [
        "# **🌟 Exercise 7: Data Transformation for Age Feature**"
      ],
      "metadata": {
        "id": "dSoO6knITfnP"
      }
    },
    {
      "cell_type": "code",
      "source": [
        "import pandas as pd\n",
        "\n",
        "# Define age bins and labels\n",
        "age_bins = [0, 12, 18, 35, 50, 65, 100]  # Ranges: Child, Teen, Young Adult, Middle-aged, Senior, Elderly\n",
        "age_labels = ['Child', 'Teen', 'Young Adult', 'Middle-aged', 'Senior', 'Elderly']\n",
        "\n",
        "# Create Age Group column\n",
        "titanic_data_fe['AgeGroup'] = pd.cut(titanic_data_fe['Age'], bins=age_bins, labels=age_labels)\n",
        "\n",
        "# View first few rows to check the transformation\n",
        "print(titanic_data_fe[['Age', 'AgeGroup']].head())\n"
      ],
      "metadata": {
        "colab": {
          "base_uri": "https://localhost:8080/"
        },
        "id": "2jAeyWs_TawD",
        "outputId": "0de40854-bcb4-43e2-f6a6-c8dbefec6dac"
      },
      "execution_count": 31,
      "outputs": [
        {
          "output_type": "stream",
          "name": "stdout",
          "text": [
            "        Age AgeGroup\n",
            "0  0.271174    Child\n",
            "1  0.472229    Child\n",
            "2  0.321438    Child\n",
            "3  0.434531    Child\n",
            "4  0.434531    Child\n"
          ]
        }
      ]
    },
    {
      "cell_type": "code",
      "source": [
        "# One-hot encode AgeGroup\n",
        "titanic_data_fe = pd.get_dummies(titanic_data_fe, columns=['AgeGroup'], drop_first=True)\n",
        "\n",
        "# Check new columns\n",
        "print(titanic_data_fe.head())\n"
      ],
      "metadata": {
        "colab": {
          "base_uri": "https://localhost:8080/"
        },
        "id": "QKfIXWEfTkeT",
        "outputId": "8d8b4883-c5a3-4e02-b5ab-85eaed24fc0c"
      },
      "execution_count": 32,
      "outputs": [
        {
          "output_type": "stream",
          "name": "stdout",
          "text": [
            "   PassengerId  Survived  Pclass  \\\n",
            "0            1         0       2   \n",
            "1            2         1       0   \n",
            "2            3         1       2   \n",
            "3            4         1       0   \n",
            "4            5         0       2   \n",
            "\n",
            "                                                Name  Sex       Age  SibSp  \\\n",
            "0                            Braund, Mr. Owen Harris    1  0.271174      1   \n",
            "1  Cumings, Mrs. John Bradley (Florence Briggs Th...    0  0.472229      1   \n",
            "2                             Heikkinen, Miss. Laina    0  0.321438      0   \n",
            "3       Futrelle, Mrs. Jacques Heath (Lily May Peel)    0  0.434531      1   \n",
            "4                           Allen, Mr. William Henry    1  0.434531      0   \n",
            "\n",
            "   Parch            Ticket      Fare  ... Title_Royalty  Fare_Zscore  \\\n",
            "0      0         A/5 21171  0.014151  ...         False    -0.502445   \n",
            "1      0          PC 17599  0.139136  ...         False     0.786845   \n",
            "2      0  STON/O2. 3101282  0.015469  ...         False    -0.488854   \n",
            "3      0            113803  0.103644  ...         False     0.420730   \n",
            "4      0            373450  0.015713  ...         False    -0.486337   \n",
            "\n",
            "   Age_Zscore  Embarked_Q  Embarked_S  AgeGroup_Teen  AgeGroup_Young Adult  \\\n",
            "0         NaN       False        True          False                 False   \n",
            "1         NaN       False       False          False                 False   \n",
            "2         NaN       False        True          False                 False   \n",
            "3         NaN       False        True          False                 False   \n",
            "4         NaN       False        True          False                 False   \n",
            "\n",
            "   AgeGroup_Middle-aged  AgeGroup_Senior  AgeGroup_Elderly  \n",
            "0                 False            False             False  \n",
            "1                 False            False             False  \n",
            "2                 False            False             False  \n",
            "3                 False            False             False  \n",
            "4                 False            False             False  \n",
            "\n",
            "[5 rows x 27 columns]\n"
          ]
        }
      ]
    },
    {
      "cell_type": "code",
      "source": [
        "print(titanic_data_fe.info())  # Ensure no categorical data remains\n",
        "print(titanic_data_fe.head())  # Check transformed dataset\n"
      ],
      "metadata": {
        "colab": {
          "base_uri": "https://localhost:8080/"
        },
        "id": "curm5A3lTmon",
        "outputId": "5ec721aa-4a67-4de2-e592-49d0f1e4698b"
      },
      "execution_count": 33,
      "outputs": [
        {
          "output_type": "stream",
          "name": "stdout",
          "text": [
            "<class 'pandas.core.frame.DataFrame'>\n",
            "RangeIndex: 891 entries, 0 to 890\n",
            "Data columns (total 27 columns):\n",
            " #   Column                Non-Null Count  Dtype  \n",
            "---  ------                --------------  -----  \n",
            " 0   PassengerId           891 non-null    int64  \n",
            " 1   Survived              891 non-null    int64  \n",
            " 2   Pclass                891 non-null    int64  \n",
            " 3   Name                  891 non-null    object \n",
            " 4   Sex                   891 non-null    int64  \n",
            " 5   Age                   714 non-null    float64\n",
            " 6   SibSp                 891 non-null    int64  \n",
            " 7   Parch                 891 non-null    int64  \n",
            " 8   Ticket                891 non-null    object \n",
            " 9   Fare                  891 non-null    float64\n",
            " 10  Cabin                 204 non-null    object \n",
            " 11  FamilySize            891 non-null    float64\n",
            " 12  Title_Master          891 non-null    bool   \n",
            " 13  Title_Miss            891 non-null    bool   \n",
            " 14  Title_Mr              891 non-null    bool   \n",
            " 15  Title_Mrs             891 non-null    bool   \n",
            " 16  Title_Other           891 non-null    bool   \n",
            " 17  Title_Royalty         891 non-null    bool   \n",
            " 18  Fare_Zscore           891 non-null    float64\n",
            " 19  Age_Zscore            0 non-null      float64\n",
            " 20  Embarked_Q            891 non-null    bool   \n",
            " 21  Embarked_S            891 non-null    bool   \n",
            " 22  AgeGroup_Teen         891 non-null    bool   \n",
            " 23  AgeGroup_Young Adult  891 non-null    bool   \n",
            " 24  AgeGroup_Middle-aged  891 non-null    bool   \n",
            " 25  AgeGroup_Senior       891 non-null    bool   \n",
            " 26  AgeGroup_Elderly      891 non-null    bool   \n",
            "dtypes: bool(13), float64(5), int64(6), object(3)\n",
            "memory usage: 108.9+ KB\n",
            "None\n",
            "   PassengerId  Survived  Pclass  \\\n",
            "0            1         0       2   \n",
            "1            2         1       0   \n",
            "2            3         1       2   \n",
            "3            4         1       0   \n",
            "4            5         0       2   \n",
            "\n",
            "                                                Name  Sex       Age  SibSp  \\\n",
            "0                            Braund, Mr. Owen Harris    1  0.271174      1   \n",
            "1  Cumings, Mrs. John Bradley (Florence Briggs Th...    0  0.472229      1   \n",
            "2                             Heikkinen, Miss. Laina    0  0.321438      0   \n",
            "3       Futrelle, Mrs. Jacques Heath (Lily May Peel)    0  0.434531      1   \n",
            "4                           Allen, Mr. William Henry    1  0.434531      0   \n",
            "\n",
            "   Parch            Ticket      Fare  ... Title_Royalty  Fare_Zscore  \\\n",
            "0      0         A/5 21171  0.014151  ...         False    -0.502445   \n",
            "1      0          PC 17599  0.139136  ...         False     0.786845   \n",
            "2      0  STON/O2. 3101282  0.015469  ...         False    -0.488854   \n",
            "3      0            113803  0.103644  ...         False     0.420730   \n",
            "4      0            373450  0.015713  ...         False    -0.486337   \n",
            "\n",
            "   Age_Zscore  Embarked_Q  Embarked_S  AgeGroup_Teen  AgeGroup_Young Adult  \\\n",
            "0         NaN       False        True          False                 False   \n",
            "1         NaN       False       False          False                 False   \n",
            "2         NaN       False        True          False                 False   \n",
            "3         NaN       False        True          False                 False   \n",
            "4         NaN       False        True          False                 False   \n",
            "\n",
            "   AgeGroup_Middle-aged  AgeGroup_Senior  AgeGroup_Elderly  \n",
            "0                 False            False             False  \n",
            "1                 False            False             False  \n",
            "2                 False            False             False  \n",
            "3                 False            False             False  \n",
            "4                 False            False             False  \n",
            "\n",
            "[5 rows x 27 columns]\n"
          ]
        }
      ]
    }
  ]
}