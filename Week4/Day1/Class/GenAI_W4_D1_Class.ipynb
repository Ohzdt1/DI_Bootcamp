{
  "nbformat": 4,
  "nbformat_minor": 0,
  "metadata": {
    "colab": {
      "provenance": [],
      "toc_visible": true
    },
    "kernelspec": {
      "name": "python3",
      "display_name": "Python 3"
    },
    "language_info": {
      "name": "python"
    }
  },
  "cells": [
    {
      "cell_type": "markdown",
      "source": [
        "# **Understanding numpy arrays**"
      ],
      "metadata": {
        "id": "YceeAI5K3yHJ"
      }
    },
    {
      "cell_type": "code",
      "execution_count": 3,
      "metadata": {
        "colab": {
          "base_uri": "https://localhost:8080/"
        },
        "id": "9Kh2UwHVVxhU",
        "outputId": "cba16e45-1eed-4773-a03c-a30bcf7c5bac"
      },
      "outputs": [
        {
          "output_type": "stream",
          "name": "stdout",
          "text": [
            "Requirement already satisfied: numpy in /usr/local/lib/python3.11/dist-packages (1.26.4)\n",
            "1.26.4\n"
          ]
        }
      ],
      "source": [
        "!pip install numpy\n",
        "import numpy as np\n",
        "print(np.__version__)"
      ]
    },
    {
      "cell_type": "code",
      "source": [
        "# Creating a 1D NumPy array\n",
        "array_1d = np.array([1, 2, 3, 4])\n",
        "print(\"1D Array:\", array_1d)  # Expected Output: 1D Array: [1 2 3 4]\n",
        "\n",
        "# Creating a 2D NumPy array\n",
        "array_2d = np.array([[1, 2, 3], [4, 5, 6]])\n",
        "print(\"2D Array:\\n\", array_2d)\n",
        "# Expected Output:\n",
        "# 2D Array:\n",
        "# [[1 2 3]\n",
        "#  [4 5 6]]\n",
        "\n",
        "# Array attributes\n",
        "print(\"Shape:\", array_2d.shape)  # Expected Output: Shape: (2, 3) - 2 rows and 3 columns\n",
        "print(\"Size:\", array_2d.size)   # Expected Output: Size: 6 - Total 6 elements\n",
        "print(\"Data Type:\", array_2d.dtype)  # Expected Output: Data Type: int64 (or similar, depending on system)"
      ],
      "metadata": {
        "colab": {
          "base_uri": "https://localhost:8080/"
        },
        "id": "ltck1yM2yV_K",
        "outputId": "523a1c26-582c-4339-d3d9-cca0fd9b9ff1"
      },
      "execution_count": 4,
      "outputs": [
        {
          "output_type": "stream",
          "name": "stdout",
          "text": [
            "1D Array: [1 2 3 4]\n",
            "2D Array:\n",
            " [[1 2 3]\n",
            " [4 5 6]]\n",
            "Shape: (2, 3)\n",
            "Size: 6\n",
            "Data Type: int64\n"
          ]
        }
      ]
    },
    {
      "cell_type": "code",
      "source": [
        "array_3d = np.array([[[1, 2], [3, 4]], [[5, 6], [7, 8]]])\n",
        "\n",
        "print(\"Shape:\", array_3d.shape)\n",
        "print(\"Size:\", array_3d.size)\n",
        "print(\"Data Type:\", array_3d.dtype)\n"
      ],
      "metadata": {
        "colab": {
          "base_uri": "https://localhost:8080/"
        },
        "id": "kQ6pUksnyxFP",
        "outputId": "6ff45ff1-a356-467d-c8e6-49f91353aeb8"
      },
      "execution_count": 6,
      "outputs": [
        {
          "output_type": "stream",
          "name": "stdout",
          "text": [
            "Shape: (2, 2, 2)\n",
            "Size: 8\n",
            "Data Type: int64\n"
          ]
        }
      ]
    },
    {
      "cell_type": "markdown",
      "source": [
        "# **Exercise: Exploring NumPy Arrays**\n"
      ],
      "metadata": {
        "id": "qtCdKjBj0IJ-"
      }
    },
    {
      "cell_type": "code",
      "source": [
        "array_1d = np.array([1, 2, 3, 4, 5])\n",
        "print(\"1D Array:\", array_1d)\n",
        "\n",
        "print(\"Shape:\", array_1d.shape)\n",
        "print(\"Size:\", array_1d.size)\n",
        "print(\"Data Type:\", array_1d.dtype)\n",
        "\n",
        "array_2d = np.array([[1, 2, 3], [4, 5, 6]])\n",
        "print(\"2D Array:\\n\", array_2d)\n",
        "\n",
        "print(\"Shape:\", array_2d.shape)\n",
        "print(\"Size:\", array_2d.size)\n",
        "print(\"Data Type:\", array_2d.dtype)"
      ],
      "metadata": {
        "colab": {
          "base_uri": "https://localhost:8080/"
        },
        "id": "v98rbtV8y75q",
        "outputId": "b1d5457e-8959-4fb8-e2ee-3b971b12206b"
      },
      "execution_count": 11,
      "outputs": [
        {
          "output_type": "stream",
          "name": "stdout",
          "text": [
            "1D Array: [1 2 3 4 5]\n",
            "Shape: (5,)\n",
            "Size: 5\n",
            "Data Type: int64\n",
            "2D Array:\n",
            " [[1 2 3]\n",
            " [4 5 6]]\n",
            "Shape: (2, 3)\n",
            "Size: 6\n",
            "Data Type: int64\n"
          ]
        }
      ]
    },
    {
      "cell_type": "code",
      "source": [
        "tenp_array = np.array([[['Sunday', 'Monday','Tuesday','Wednesday', 'Thursday', 'Friday', 'Saturday'], [8, 10, 9, 13, 14, 18, 16]]])\n",
        "print(\"Weeks Temp Array:\\n\", tenp_array)"
      ],
      "metadata": {
        "colab": {
          "base_uri": "https://localhost:8080/"
        },
        "id": "p5CbRB430MqG",
        "outputId": "824ec9bf-e8c0-4d0a-eb29-1d76a6343434"
      },
      "execution_count": 13,
      "outputs": [
        {
          "output_type": "stream",
          "name": "stdout",
          "text": [
            "Weeks Temp Array:\n",
            " [[['Sunday' 'Monday' 'Tuesday' 'Wednesday' 'Thursday' 'Friday'\n",
            "   'Saturday']\n",
            "  ['8' '10' '9' '13' '14' '18' '16']]]\n"
          ]
        }
      ]
    },
    {
      "cell_type": "markdown",
      "source": [
        "# **Array Indexing & Slicing**"
      ],
      "metadata": {
        "id": "L6B5GR7n3wTh"
      }
    },
    {
      "cell_type": "code",
      "source": [
        "array1 = np.array([10, 20, 30, 40, 50, 60, 70, 80, 90, 100])\n",
        "fifth_element = array1[4]\n",
        "print(\"5th element:\", fifth_element)"
      ],
      "metadata": {
        "colab": {
          "base_uri": "https://localhost:8080/"
        },
        "id": "uD5Ln7Nr3-wy",
        "outputId": "c8055010-bae1-42a3-9828-3766ab7a2943"
      },
      "execution_count": 14,
      "outputs": [
        {
          "output_type": "stream",
          "name": "stdout",
          "text": [
            "5th element: 50\n"
          ]
        }
      ]
    },
    {
      "cell_type": "code",
      "source": [
        "slice_array = array1[2:8]\n",
        "print(\"Sliced array (3rd to 8th elements):\", slice_array)\n"
      ],
      "metadata": {
        "colab": {
          "base_uri": "https://localhost:8080/"
        },
        "id": "84Ab0nXI4dGK",
        "outputId": "9458c686-5c32-4199-d454-6b3eb33a910c"
      },
      "execution_count": 15,
      "outputs": [
        {
          "output_type": "stream",
          "name": "stdout",
          "text": [
            "Sliced array (3rd to 8th elements): [30 40 50 60 70 80]\n"
          ]
        }
      ]
    },
    {
      "cell_type": "code",
      "source": [
        "random_array = np.random.randint(10, 50, size=6)\n",
        "greater_than_30 = random_array[random_array > 30]\n",
        "print(\"Random array:\", random_array)\n",
        "print(\"Elements greater than 30:\", greater_than_30)"
      ],
      "metadata": {
        "colab": {
          "base_uri": "https://localhost:8080/"
        },
        "id": "v8FEBOhW4fwL",
        "outputId": "33eca203-3205-4081-9043-58593f751a27"
      },
      "execution_count": 16,
      "outputs": [
        {
          "output_type": "stream",
          "name": "stdout",
          "text": [
            "Random array: [41 48 23 20 48 11]\n",
            "Elements greater than 30: [41 48 48]\n"
          ]
        }
      ]
    },
    {
      "cell_type": "code",
      "source": [
        "fancy_indices = [1, 3, 5]\n",
        "fancy_selected = random_array[fancy_indices]\n",
        "print(\"Selected elements using fancy indexing:\", fancy_selected)\n"
      ],
      "metadata": {
        "colab": {
          "base_uri": "https://localhost:8080/"
        },
        "id": "1fICTKS04kuI",
        "outputId": "507b0d03-71d8-48b8-f19c-3c2123e2f771"
      },
      "execution_count": 17,
      "outputs": [
        {
          "output_type": "stream",
          "name": "stdout",
          "text": [
            "Selected elements using fancy indexing: [48 20 11]\n"
          ]
        }
      ]
    },
    {
      "cell_type": "markdown",
      "source": [
        "# **Random Number Generation in Numpy**"
      ],
      "metadata": {
        "id": "03RFh3Vz6K5n"
      }
    },
    {
      "cell_type": "code",
      "source": [
        "rand = np.random.randint(10, 50, 6)\n",
        "print(rand[rand>30])\n"
      ],
      "metadata": {
        "colab": {
          "base_uri": "https://localhost:8080/"
        },
        "id": "wFM2lv7V6FRG",
        "outputId": "75499123-9f81-4f79-8f5f-84e24b9c7445"
      },
      "execution_count": 20,
      "outputs": [
        {
          "output_type": "stream",
          "name": "stdout",
          "text": [
            "[38 40 38 42]\n"
          ]
        }
      ]
    },
    {
      "cell_type": "code",
      "source": [
        "x = np.array([1, 2, 3, 4, 5, 6, 7])\n",
        "new = np.random.permutation(x)\n",
        "new\n"
      ],
      "metadata": {
        "colab": {
          "base_uri": "https://localhost:8080/"
        },
        "id": "35qlwrO86FCv",
        "outputId": "b4debe73-38d6-46c4-d360-74ce672a5f0d"
      },
      "execution_count": 21,
      "outputs": [
        {
          "output_type": "execute_result",
          "data": {
            "text/plain": [
              "array([7, 6, 5, 1, 4, 2, 3])"
            ]
          },
          "metadata": {},
          "execution_count": 21
        }
      ]
    },
    {
      "cell_type": "code",
      "source": [
        "two = np.array([[1,2], [3,4], [5,6]])\n",
        "np.random.permutation(two)\n"
      ],
      "metadata": {
        "id": "PVEH8Fgr6Ng-"
      },
      "execution_count": null,
      "outputs": []
    },
    {
      "cell_type": "code",
      "source": [
        "x = np.arange(10)\n",
        "x"
      ],
      "metadata": {
        "colab": {
          "base_uri": "https://localhost:8080/"
        },
        "id": "crDHUVeV4pm0",
        "outputId": "89e21539-9624-46ef-a24b-57241b975920"
      },
      "execution_count": 19,
      "outputs": [
        {
          "output_type": "execute_result",
          "data": {
            "text/plain": [
              "array([0, 1, 2, 3, 4, 5, 6, 7, 8, 9])"
            ]
          },
          "metadata": {},
          "execution_count": 19
        }
      ]
    },
    {
      "cell_type": "markdown",
      "source": [
        "# **Exercises on Indexing and Slicing for Array Modification**"
      ],
      "metadata": {
        "id": "Ae6eIZCq6eRe"
      }
    },
    {
      "cell_type": "code",
      "source": [
        "array1 = np.array([1, 2, 3, 4, 5, 6, 7, 8, 9, 10])\n",
        "\n",
        "array1[4] = 50\n",
        "print(\"5th element:\", array1)"
      ],
      "metadata": {
        "colab": {
          "base_uri": "https://localhost:8080/"
        },
        "id": "U9l6gqOn6ULj",
        "outputId": "833e492c-c494-4e53-c2e2-dc42845ecb27"
      },
      "execution_count": 41,
      "outputs": [
        {
          "output_type": "stream",
          "name": "stdout",
          "text": [
            "5th element: [ 1  2  3  4 50  6  7  8  9 10]\n"
          ]
        }
      ]
    },
    {
      "cell_type": "code",
      "source": [
        "array1[3:8] = -array1[3:8]\n",
        "print(\"Sliced array (3rd to 8th elements):\", slice_array)\n",
        "\n",
        "print(\"Modified array:\", array1)\n"
      ],
      "metadata": {
        "colab": {
          "base_uri": "https://localhost:8080/"
        },
        "id": "-iPj7Dbm7Lq1",
        "outputId": "a77a26eb-6fe9-459a-f0f4-fb6d40912900"
      },
      "execution_count": 42,
      "outputs": [
        {
          "output_type": "stream",
          "name": "stdout",
          "text": [
            "Sliced array (3rd to 8th elements): [ -4 -50  -6  -7  -8]\n",
            "Modified array: [  1   2   3  -4 -50  -6  -7  -8   9  10]\n"
          ]
        }
      ]
    },
    {
      "cell_type": "code",
      "source": [
        "random_array = np.random.randint(1, 100, 20)\n",
        "random_array[random_array > 50] = -1\n",
        "print(\"Modified random array:\", random_array)"
      ],
      "metadata": {
        "colab": {
          "base_uri": "https://localhost:8080/"
        },
        "id": "o0aIgBB383UM",
        "outputId": "0b289c30-9513-4068-e3d4-69212aaa4c2e"
      },
      "execution_count": 43,
      "outputs": [
        {
          "output_type": "stream",
          "name": "stdout",
          "text": [
            "Modified random array: [-1  7 17 48 15 -1 -1 -1 -1 45 25 -1 49 13 -1 39 34  3 47 17]\n"
          ]
        }
      ]
    },
    {
      "cell_type": "code",
      "source": [
        "array2D = np.random.randint(1, 10, (5, 5))\n",
        "\n",
        "array2D"
      ],
      "metadata": {
        "colab": {
          "base_uri": "https://localhost:8080/"
        },
        "id": "V8P5K7K683LP",
        "outputId": "6fcb7e77-b47c-4c1f-e79e-e080d5a50c6d"
      },
      "execution_count": 56,
      "outputs": [
        {
          "output_type": "execute_result",
          "data": {
            "text/plain": [
              "array([[7, 7, 1, 9, 4],\n",
              "       [8, 4, 5, 1, 9],\n",
              "       [5, 2, 4, 4, 9],\n",
              "       [3, 8, 7, 7, 3],\n",
              "       [3, 4, 8, 7, 2]])"
            ]
          },
          "metadata": {},
          "execution_count": 56
        }
      ]
    },
    {
      "cell_type": "code",
      "source": [
        "for i in range(5):\n",
        "  for j in range(5):\n",
        "    # print (i,j)\n",
        "    if i == j:\n",
        "      array2D[i, j] = array2D[i ,j] *2\n",
        "print(array2D)"
      ],
      "metadata": {
        "colab": {
          "base_uri": "https://localhost:8080/"
        },
        "id": "EQiZ1KBa822r",
        "outputId": "3a0fbcec-8510-4556-a03a-2c5d57923523"
      },
      "execution_count": 57,
      "outputs": [
        {
          "output_type": "stream",
          "name": "stdout",
          "text": [
            "[[14  7  1  9  4]\n",
            " [ 8  8  5  1  9]\n",
            " [ 5  2  8  4  9]\n",
            " [ 3  8  7 14  3]\n",
            " [ 3  4  8  7  4]]\n"
          ]
        }
      ]
    },
    {
      "cell_type": "code",
      "source": [
        "for i in range(5):\n",
        "  for j in range(5):\n",
        "    if i + j == 4:\n",
        "      array2D[i, j] = 0\n",
        "print(array2D)"
      ],
      "metadata": {
        "colab": {
          "base_uri": "https://localhost:8080/"
        },
        "id": "3xeRMNGaAvTY",
        "outputId": "53268afc-eab2-4239-9361-cc5315ec4ee8"
      },
      "execution_count": 58,
      "outputs": [
        {
          "output_type": "stream",
          "name": "stdout",
          "text": [
            "[[14  7  1  9  0]\n",
            " [ 8  8  5  0  9]\n",
            " [ 5  2  0  4  9]\n",
            " [ 3  0  7 14  3]\n",
            " [ 0  4  8  7  4]]\n"
          ]
        }
      ]
    },
    {
      "cell_type": "code",
      "source": [
        "ar_z = np.zeros((5,5))\n",
        "ar_z"
      ],
      "metadata": {
        "colab": {
          "base_uri": "https://localhost:8080/"
        },
        "id": "lPvpPsPpDeP2",
        "outputId": "86c58ef8-3423-45c9-c817-4beebc7009b5"
      },
      "execution_count": 59,
      "outputs": [
        {
          "output_type": "execute_result",
          "data": {
            "text/plain": [
              "array([[0., 0., 0., 0., 0.],\n",
              "       [0., 0., 0., 0., 0.],\n",
              "       [0., 0., 0., 0., 0.],\n",
              "       [0., 0., 0., 0., 0.],\n",
              "       [0., 0., 0., 0., 0.]])"
            ]
          },
          "metadata": {},
          "execution_count": 59
        }
      ]
    },
    {
      "cell_type": "code",
      "source": [
        "ar_1 = np.ones((5,5))\n",
        "ar_1"
      ],
      "metadata": {
        "colab": {
          "base_uri": "https://localhost:8080/"
        },
        "id": "r8yDP-F4DsOQ",
        "outputId": "df440b5e-fc05-4261-a264-291520c20922"
      },
      "execution_count": 60,
      "outputs": [
        {
          "output_type": "execute_result",
          "data": {
            "text/plain": [
              "array([[1., 1., 1., 1., 1.],\n",
              "       [1., 1., 1., 1., 1.],\n",
              "       [1., 1., 1., 1., 1.],\n",
              "       [1., 1., 1., 1., 1.],\n",
              "       [1., 1., 1., 1., 1.]])"
            ]
          },
          "metadata": {},
          "execution_count": 60
        }
      ]
    },
    {
      "cell_type": "markdown",
      "source": [
        "# **Basic Operations with Arrays**"
      ],
      "metadata": {
        "id": "6VW-K4mGDYow"
      }
    },
    {
      "cell_type": "code",
      "source": [
        "import numpy as np\n",
        "\n",
        "# Creating sample arrays\n",
        "a = np.array([1, 2, 3])\n",
        "b = np.array([4, 5, 6])\n",
        "\n",
        "# Element-wise addition\n",
        "print(\"Addition:\", a + b)\n",
        "\n",
        "# Broadcasting\n",
        "print(\"Broadcasting with scalar:\", a * 3)\n"
      ],
      "metadata": {
        "colab": {
          "base_uri": "https://localhost:8080/"
        },
        "id": "AZvyBWyOD5df",
        "outputId": "041b9866-33f7-4760-ef2f-ac4bfcbbcee1"
      },
      "execution_count": 61,
      "outputs": [
        {
          "output_type": "stream",
          "name": "stdout",
          "text": [
            "Addition: [5 7 9]\n",
            "Broadcasting with scalar: [3 6 9]\n"
          ]
        }
      ]
    },
    {
      "cell_type": "code",
      "source": [
        "# Creating a 1D array\n",
        "a = np.array([1, 2, 3])\n",
        "\n",
        "# Adding a scalar value to the array\n",
        "result = a + 5\n",
        "\n",
        "print(\"Original Array:\", a)\n",
        "print(\"After Adding 5:\", result)"
      ],
      "metadata": {
        "colab": {
          "base_uri": "https://localhost:8080/"
        },
        "id": "XLgxggOEEFW3",
        "outputId": "50a35b80-9f3d-4d28-b540-9afe654d4ad5"
      },
      "execution_count": 62,
      "outputs": [
        {
          "output_type": "stream",
          "name": "stdout",
          "text": [
            "Original Array: [1 2 3]\n",
            "After Adding 5: [6 7 8]\n"
          ]
        }
      ]
    },
    {
      "cell_type": "code",
      "source": [
        "# Creating a 1D array and a 2D array\n",
        "a = np.array([0, 1, 2])\n",
        "b = np.array([[0, 1, 2], [3, 4, 5]])\n",
        "\n",
        "# Adding the 1D array to each row of the 2D array\n",
        "result = a + b\n",
        "\n",
        "print(\"1D Array:\\n\", a)\n",
        "print(\"2D Array:\\n\", b)\n",
        "print(\"Broadcasted Addition:\\n\", result)"
      ],
      "metadata": {
        "colab": {
          "base_uri": "https://localhost:8080/"
        },
        "id": "6l9G3CaNEHj1",
        "outputId": "ec9185d4-8397-4aa3-e9b8-7fcc39223e4f"
      },
      "execution_count": 67,
      "outputs": [
        {
          "output_type": "stream",
          "name": "stdout",
          "text": [
            "1D Array:\n",
            " [0 1 2]\n",
            "2D Array:\n",
            " [[0 1 2]\n",
            " [3 4 5]]\n",
            "Broadcasted Addition:\n",
            " [[0 2 4]\n",
            " [3 5 7]]\n"
          ]
        }
      ]
    },
    {
      "cell_type": "code",
      "source": [
        "# Creating two arrays\n",
        "a = np.array([[1], [2], [3]])\n",
        "b = np.array([1, 2, 3])\n",
        "\n",
        "# Adding the two arrays\n",
        "result = a + b\n",
        "\n",
        "print(\"Array a:\\n\", a)\n",
        "print(\"Array b:\\n\", b)\n",
        "print(\"Broadcasted Addition:\\n\", result)"
      ],
      "metadata": {
        "colab": {
          "base_uri": "https://localhost:8080/"
        },
        "id": "37DyM6AlETpS",
        "outputId": "f4bfc092-38e8-4c12-df02-a6ec6c8e493f"
      },
      "execution_count": 69,
      "outputs": [
        {
          "output_type": "stream",
          "name": "stdout",
          "text": [
            "Array a:\n",
            " [[1]\n",
            " [2]\n",
            " [3]]\n",
            "Array b:\n",
            " [1 2 3]\n",
            "Broadcasted Addition:\n",
            " [[2 3 4]\n",
            " [3 4 5]\n",
            " [4 5 6]]\n"
          ]
        }
      ]
    },
    {
      "cell_type": "code",
      "source": [
        "# Creating two incompatible arrays\n",
        "a = np.array([[1, 2, 3], [4, 5, 6]])\n",
        "b = np.array([1, 2])\n",
        "\n",
        "try:\n",
        "    result = a + b\n",
        "except ValueError as e:\n",
        "    print(\"Error:\", e)"
      ],
      "metadata": {
        "colab": {
          "base_uri": "https://localhost:8080/"
        },
        "id": "ODfLHmY8Erhi",
        "outputId": "8c2b7464-3bed-40a0-9941-c6b86557cac0"
      },
      "execution_count": 70,
      "outputs": [
        {
          "output_type": "stream",
          "name": "stdout",
          "text": [
            "Error: operands could not be broadcast together with shapes (2,3) (2,) \n"
          ]
        }
      ]
    },
    {
      "cell_type": "code",
      "source": [
        "# Creating a 2D array and a 1D array\n",
        "a = np.array([[1, 2, 3], [4, 5, 6]])\n",
        "b = np.array([1, 2, 3])\n",
        "\n",
        "# Element-wise multiplication\n",
        "result = a * b\n",
        "\n",
        "print(\"2D Array:\\n\", a)\n",
        "print(\"1D Array:\\n\", b)\n",
        "print(\"Broadcasted Multiplication:\\n\", result)\n"
      ],
      "metadata": {
        "colab": {
          "base_uri": "https://localhost:8080/"
        },
        "id": "4-Ua-oy1FjbC",
        "outputId": "14312159-fb28-493d-8726-2c52ba72117f"
      },
      "execution_count": 72,
      "outputs": [
        {
          "output_type": "stream",
          "name": "stdout",
          "text": [
            "2D Array:\n",
            " [[1 2 3]\n",
            " [4 5 6]]\n",
            "1D Array:\n",
            " [1 2 3]\n",
            "Broadcasted Multiplication:\n",
            " [[ 1  4  9]\n",
            " [ 4 10 18]]\n"
          ]
        }
      ]
    },
    {
      "cell_type": "code",
      "source": [],
      "metadata": {
        "id": "XYUYh1LdF_If"
      },
      "execution_count": null,
      "outputs": []
    },
    {
      "cell_type": "markdown",
      "source": [
        "# **Reshaping & Transposing Arrays**"
      ],
      "metadata": {
        "id": "Fxj3VbWtJPho"
      }
    },
    {
      "cell_type": "code",
      "source": [
        "# Creating a 1D array\n",
        "array = np.arange(1, 10)  # Array of numbers from 1 to 9\n",
        "\n",
        "# Reshaping to a 3x3 matrix\n",
        "reshaped_array = array.reshape(3, 3)\n",
        "print(\"Reshaped to 3x3:\\n\", reshaped_array)"
      ],
      "metadata": {
        "colab": {
          "base_uri": "https://localhost:8080/"
        },
        "id": "X58GQIBdJWaP",
        "outputId": "344f944b-5995-4d80-984e-d270fe49f59b"
      },
      "execution_count": 73,
      "outputs": [
        {
          "output_type": "stream",
          "name": "stdout",
          "text": [
            "Reshaped to 3x3:\n",
            " [[1 2 3]\n",
            " [4 5 6]\n",
            " [7 8 9]]\n"
          ]
        }
      ]
    },
    {
      "cell_type": "code",
      "source": [
        "transposed_array = reshaped_array.T\n",
        "print(\"Transposed array:\\n\", transposed_array)"
      ],
      "metadata": {
        "colab": {
          "base_uri": "https://localhost:8080/"
        },
        "id": "NPEXz60WJeTk",
        "outputId": "b1b82bb3-c122-49b8-c305-81f24ef8be98"
      },
      "execution_count": 74,
      "outputs": [
        {
          "output_type": "stream",
          "name": "stdout",
          "text": [
            "Transposed array:\n",
            " [[1 4 7]\n",
            " [2 5 8]\n",
            " [3 6 9]]\n"
          ]
        }
      ]
    },
    {
      "cell_type": "code",
      "source": [
        "arr_1d = np.array([1, 2, 3, 4, 5, 6, 7, 8, 9, 10, 11, 12])\n",
        "print(arr_1d)\n"
      ],
      "metadata": {
        "colab": {
          "base_uri": "https://localhost:8080/"
        },
        "id": "rWXBO-kWJvt7",
        "outputId": "bf4eed9c-f4b2-439d-89e7-8df6ebec2101"
      },
      "execution_count": 76,
      "outputs": [
        {
          "output_type": "stream",
          "name": "stdout",
          "text": [
            "[ 1  2  3  4  5  6  7  8  9 10 11 12]\n"
          ]
        }
      ]
    },
    {
      "cell_type": "code",
      "source": [
        "reshaped_array = arr_1d.reshape(4, 3)\n",
        "print(\"Reshaped to 4x3:\\n\", reshaped_array)\n"
      ],
      "metadata": {
        "colab": {
          "base_uri": "https://localhost:8080/"
        },
        "id": "_NZWCsBlNuIH",
        "outputId": "473504d4-e842-4a1b-e715-e743b1f2f919"
      },
      "execution_count": 79,
      "outputs": [
        {
          "output_type": "stream",
          "name": "stdout",
          "text": [
            "Reshaped to 4x3:\n",
            " [[ 1  2  3]\n",
            " [ 4  5  6]\n",
            " [ 7  8  9]\n",
            " [10 11 12]]\n"
          ]
        }
      ]
    },
    {
      "cell_type": "code",
      "source": [
        "reshaped_array = arr_1d.reshape(2, 6)\n",
        "print(\"Reshaped to 2x6:\\n\", reshaped_array)\n"
      ],
      "metadata": {
        "colab": {
          "base_uri": "https://localhost:8080/"
        },
        "id": "Jt6dBpEHOJNW",
        "outputId": "73bbbe39-072b-488c-c0af-1ce5803178af"
      },
      "execution_count": 80,
      "outputs": [
        {
          "output_type": "stream",
          "name": "stdout",
          "text": [
            "Reshaped to 2x6:\n",
            " [[ 1  2  3  4  5  6]\n",
            " [ 7  8  9 10 11 12]]\n"
          ]
        }
      ]
    },
    {
      "cell_type": "code",
      "source": [
        "transposed_array = reshaped_array.T\n",
        "print(\"Transposed array:\\n\", transposed_array)"
      ],
      "metadata": {
        "colab": {
          "base_uri": "https://localhost:8080/"
        },
        "id": "7wpHvzsZOPzk",
        "outputId": "614b6ea8-f178-44d5-99de-2915a7758af6"
      },
      "execution_count": 81,
      "outputs": [
        {
          "output_type": "stream",
          "name": "stdout",
          "text": [
            "Transposed array:\n",
            " [[ 1  7]\n",
            " [ 2  8]\n",
            " [ 3  9]\n",
            " [ 4 10]\n",
            " [ 5 11]\n",
            " [ 6 12]]\n"
          ]
        }
      ]
    },
    {
      "cell_type": "code",
      "source": [
        "random_int_matrix = np.random.randint(1, 100, (3, 4))\n",
        "\n",
        "print(random_int_matrix)\n",
        "\n"
      ],
      "metadata": {
        "colab": {
          "base_uri": "https://localhost:8080/"
        },
        "id": "8nBBONntOZ0g",
        "outputId": "9488dfa1-4874-4d4c-eb56-c08d01445742"
      },
      "execution_count": 88,
      "outputs": [
        {
          "output_type": "stream",
          "name": "stdout",
          "text": [
            "[[ 7 19 54 46]\n",
            " [92 14  5 24]\n",
            " [93 90 20 72]]\n"
          ]
        }
      ]
    },
    {
      "cell_type": "code",
      "source": [
        "transposed_array = random_int_matrix.T\n",
        "print(\"Transposed array:\\n\", random_int_matrix)"
      ],
      "metadata": {
        "colab": {
          "base_uri": "https://localhost:8080/"
        },
        "id": "SK5fO8DvPDl9",
        "outputId": "af8ab278-292b-40ac-bfba-163157703a42"
      },
      "execution_count": 89,
      "outputs": [
        {
          "output_type": "stream",
          "name": "stdout",
          "text": [
            "Transposed array:\n",
            " [[ 7 19 54 46]\n",
            " [92 14  5 24]\n",
            " [93 90 20 72]]\n"
          ]
        }
      ]
    },
    {
      "cell_type": "code",
      "source": [
        "flattened_array = random_int_matrix.reshape(-1)\n",
        "\n",
        "print(flattened_array)\n"
      ],
      "metadata": {
        "colab": {
          "base_uri": "https://localhost:8080/"
        },
        "id": "lhNV-wn7PKPH",
        "outputId": "c40edfb4-03fe-4d0d-994c-ec064acdc47d"
      },
      "execution_count": 91,
      "outputs": [
        {
          "output_type": "stream",
          "name": "stdout",
          "text": [
            "[ 7 19 54 46 92 14  5 24 93 90 20 72]\n"
          ]
        }
      ]
    }
  ]
}