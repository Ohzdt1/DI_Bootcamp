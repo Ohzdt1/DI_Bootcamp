{
  "nbformat": 4,
  "nbformat_minor": 0,
  "metadata": {
    "colab": {
      "provenance": []
    },
    "kernelspec": {
      "name": "python3",
      "display_name": "Python 3"
    },
    "language_info": {
      "name": "python"
    }
  },
  "cells": [
    {
      "cell_type": "markdown",
      "source": [
        "# **🌟 Exercise 1 : Array Creation and Manipulation**"
      ],
      "metadata": {
        "id": "OZL2VgrzSmx_"
      }
    },
    {
      "cell_type": "code",
      "execution_count": 25,
      "metadata": {
        "colab": {
          "base_uri": "https://localhost:8080/"
        },
        "id": "FZTejWkWRjYp",
        "outputId": "d9ee7305-0851-4177-d170-923f7fffc416"
      },
      "outputs": [
        {
          "output_type": "stream",
          "name": "stdout",
          "text": [
            "Requirement already satisfied: numpy in /usr/local/lib/python3.11/dist-packages (1.26.4)\n"
          ]
        }
      ],
      "source": [
        "!pip install numpy\n",
        "import numpy as np"
      ]
    },
    {
      "cell_type": "code",
      "source": [
        "arr1 = np.arange(10)\n",
        "arr1"
      ],
      "metadata": {
        "colab": {
          "base_uri": "https://localhost:8080/"
        },
        "id": "o9VHjoL7R9Dv",
        "outputId": "ed96c3bf-cc2c-43e8-de72-536595d68e36"
      },
      "execution_count": 26,
      "outputs": [
        {
          "output_type": "execute_result",
          "data": {
            "text/plain": [
              "array([0, 1, 2, 3, 4, 5, 6, 7, 8, 9])"
            ]
          },
          "metadata": {},
          "execution_count": 26
        }
      ]
    },
    {
      "cell_type": "markdown",
      "source": [
        "# **🌟 Exercise 2 : Type Conversion and Array Operations**"
      ],
      "metadata": {
        "id": "2borD7FjSreK"
      }
    },
    {
      "cell_type": "code",
      "source": [
        "arr2 = np.array([3.14, 2.17, 0, 1, 2])\n",
        "arr2"
      ],
      "metadata": {
        "colab": {
          "base_uri": "https://localhost:8080/"
        },
        "id": "e1UHjiHsSyQp",
        "outputId": "e050bfd1-bf9d-4be5-d015-94353c103d93"
      },
      "execution_count": 27,
      "outputs": [
        {
          "output_type": "execute_result",
          "data": {
            "text/plain": [
              "array([3.14, 2.17, 0.  , 1.  , 2.  ])"
            ]
          },
          "metadata": {},
          "execution_count": 27
        }
      ]
    },
    {
      "cell_type": "code",
      "source": [
        "arr2_int = np.array(arr2).astype(int)\n",
        "\n",
        "print(arr2_int)\n"
      ],
      "metadata": {
        "colab": {
          "base_uri": "https://localhost:8080/"
        },
        "id": "paGLHAKaTHc9",
        "outputId": "77dc9d2d-b5dd-45e8-e2d9-6204b139639c"
      },
      "execution_count": 28,
      "outputs": [
        {
          "output_type": "stream",
          "name": "stdout",
          "text": [
            "[3 2 0 1 2]\n"
          ]
        }
      ]
    },
    {
      "cell_type": "markdown",
      "source": [
        "# **🌟 Exercise 3 : Working with Multi-Dimensional Arrays**"
      ],
      "metadata": {
        "id": "n-X_q6emTTc-"
      }
    },
    {
      "cell_type": "code",
      "source": [
        "arr3 = np.arange(1, 10).reshape(3, 3)\n",
        "\n",
        "print(arr3)\n"
      ],
      "metadata": {
        "colab": {
          "base_uri": "https://localhost:8080/"
        },
        "id": "XwGXzYmLTV2s",
        "outputId": "be773678-729d-4fbd-835d-6fec00ea3b35"
      },
      "execution_count": 29,
      "outputs": [
        {
          "output_type": "stream",
          "name": "stdout",
          "text": [
            "[[1 2 3]\n",
            " [4 5 6]\n",
            " [7 8 9]]\n"
          ]
        }
      ]
    },
    {
      "cell_type": "markdown",
      "source": [
        "# **🌟 Exercise 4 : Creating Multi-Dimensional Array with Random Numbers**"
      ],
      "metadata": {
        "id": "X6Sa0ZLpTlfs"
      }
    },
    {
      "cell_type": "code",
      "source": [
        "arr4 = np.random.rand(4, 5)\n",
        "\n",
        "print(arr4)\n",
        "print(arr4.shape)"
      ],
      "metadata": {
        "colab": {
          "base_uri": "https://localhost:8080/"
        },
        "id": "TbGVvKXpTlAy",
        "outputId": "e2678af0-b775-4c4b-8018-3b4f8c46758f"
      },
      "execution_count": 30,
      "outputs": [
        {
          "output_type": "stream",
          "name": "stdout",
          "text": [
            "[[0.00685276 0.45668682 0.75510346 0.37948433 0.37417714]\n",
            " [0.47509111 0.52848    0.77377093 0.02412026 0.11720306]\n",
            " [0.53730561 0.18243627 0.86489616 0.8180719  0.05131727]\n",
            " [0.1833169  0.47909893 0.46963929 0.67176258 0.90951893]]\n",
            "(4, 5)\n"
          ]
        }
      ]
    },
    {
      "cell_type": "markdown",
      "source": [
        "# **🌟 Exercise 5 : Indexing Arrays**"
      ],
      "metadata": {
        "id": "qRgwuRpRT60-"
      }
    },
    {
      "cell_type": "code",
      "source": [
        "array = np.array([[21,22,23,22,22],[20, 21, 22, 23, 24],[21,22,23,22,22]])\n",
        "\n",
        "second_row = arr5[1]\n",
        "\n",
        "print(second_row)"
      ],
      "metadata": {
        "colab": {
          "base_uri": "https://localhost:8080/"
        },
        "id": "qkAXc1LjT8Xy",
        "outputId": "8d173f10-fa5e-4941-d891-31d2875a1b79"
      },
      "execution_count": 31,
      "outputs": [
        {
          "output_type": "stream",
          "name": "stdout",
          "text": [
            "[20 21 22 23 24]\n"
          ]
        }
      ]
    },
    {
      "cell_type": "markdown",
      "source": [
        "# **🌟 Exercise 6 : Reversing elements**"
      ],
      "metadata": {
        "id": "nR8PitfhUgJT"
      }
    },
    {
      "cell_type": "code",
      "source": [
        "arr6 = np.arange(10)\n",
        "print(f'Before Rearange:', arr6)\n",
        "\n",
        "# arr6[0] = 9\n",
        "# arr6[9] = 0\n",
        "\n",
        "reversed_array = array[-1]\n",
        "print(f'After Rearange:', arr6)"
      ],
      "metadata": {
        "colab": {
          "base_uri": "https://localhost:8080/"
        },
        "id": "3Dy7zh6EUeWL",
        "outputId": "1cb7d71b-d213-4359-a51a-cfb8154814e0"
      },
      "execution_count": 35,
      "outputs": [
        {
          "output_type": "stream",
          "name": "stdout",
          "text": [
            "Before Rearange: [0 1 2 3 4 5 6 7 8 9]\n",
            "After Rearange: [0 1 2 3 4 5 6 7 8 9]\n"
          ]
        }
      ]
    },
    {
      "cell_type": "markdown",
      "source": [
        "# **🌟 Exercise 7 : Identity Matrix**"
      ],
      "metadata": {
        "id": "8ziAp-VYpbCI"
      }
    },
    {
      "cell_type": "code",
      "source": [
        "arr7 = np.eye(4)\n",
        "\n",
        "print(arr7)\n"
      ],
      "metadata": {
        "colab": {
          "base_uri": "https://localhost:8080/"
        },
        "id": "u3M6R32Vpeoa",
        "outputId": "c99721ff-0b04-4bd7-8e75-0330c43e5acb"
      },
      "execution_count": 37,
      "outputs": [
        {
          "output_type": "stream",
          "name": "stdout",
          "text": [
            "[[1. 0. 0. 0.]\n",
            " [0. 1. 0. 0.]\n",
            " [0. 0. 1. 0.]\n",
            " [0. 0. 0. 1.]]\n"
          ]
        }
      ]
    },
    {
      "cell_type": "markdown",
      "source": [
        "# **🌟 Exercise 8 : Simple Aggregate Funcs**"
      ],
      "metadata": {
        "id": "lEqY5cTtpu8k"
      }
    },
    {
      "cell_type": "code",
      "source": [
        "arr8 = np.array([0, 1, 2, 3, 4, 5, 6, 7, 8, 9])\n",
        "\n",
        "array_sum = np.sum(arr8)\n",
        "array_avg = np.mean(arr8)\n",
        "\n",
        "print(f\"Sum: {array_sum}, Average: {array_avg}\")\n"
      ],
      "metadata": {
        "colab": {
          "base_uri": "https://localhost:8080/"
        },
        "id": "UCbYlRoapkuE",
        "outputId": "64f9dbd3-15e2-4c28-ab60-2d1a114835f2"
      },
      "execution_count": 44,
      "outputs": [
        {
          "output_type": "stream",
          "name": "stdout",
          "text": [
            "Sum: 45, Average: 4.5\n"
          ]
        }
      ]
    },
    {
      "cell_type": "markdown",
      "source": [
        "# **🌟 Exercise 9 : Create Array and Change its Structure**"
      ],
      "metadata": {
        "id": "M6Eg0vi7xnAR"
      }
    },
    {
      "cell_type": "code",
      "source": [
        "arr9 = np.arange(1, 21)\n",
        "print(arr9)\n",
        "\n",
        "reshaped_matrix = arr9.reshape(4, 5)\n",
        "\n",
        "print(reshaped_matrix)"
      ],
      "metadata": {
        "colab": {
          "base_uri": "https://localhost:8080/"
        },
        "id": "K4lJ8da1xkgT",
        "outputId": "1c581d65-7086-491c-8785-7a12770a1443"
      },
      "execution_count": 47,
      "outputs": [
        {
          "output_type": "stream",
          "name": "stdout",
          "text": [
            "[ 1  2  3  4  5  6  7  8  9 10 11 12 13 14 15 16 17 18 19 20]\n",
            "[[ 1  2  3  4  5]\n",
            " [ 6  7  8  9 10]\n",
            " [11 12 13 14 15]\n",
            " [16 17 18 19 20]]\n"
          ]
        }
      ]
    },
    {
      "cell_type": "markdown",
      "source": [
        "# **🌟 Exercise 10 : Conditional Selection of Values**"
      ],
      "metadata": {
        "id": "X8kWTpwEyHoM"
      }
    },
    {
      "cell_type": "code",
      "source": [
        "arr10 = np.arange(10)\n",
        "print(arr10)\n",
        "\n",
        "odd_numbers = arr10[1::2]\n",
        "\n",
        "print(odd_numbers)\n"
      ],
      "metadata": {
        "colab": {
          "base_uri": "https://localhost:8080/"
        },
        "id": "OltBuO4Hx6Z9",
        "outputId": "27a6078e-90ec-4e24-a5fc-af4890a46985"
      },
      "execution_count": 56,
      "outputs": [
        {
          "output_type": "stream",
          "name": "stdout",
          "text": [
            "[0 1 2 3 4 5 6 7 8 9]\n",
            "[1 3 5 7 9]\n"
          ]
        }
      ]
    }
  ]
}